{
 "cells": [
  {
   "cell_type": "code",
   "execution_count": 1,
   "id": "71ca8266-2da8-4beb-ab39-6a906fb9f53e",
   "metadata": {},
   "outputs": [],
   "source": [
    "import igl\n",
    "\n",
    "import numpy as np\n",
    "import igl\n",
    "import meshplot as mp\n",
    "from scipy.spatial.transform import Rotation\n",
    "import ipywidgets as iw\n",
    "import time\n",
    "from math import exp\n",
    "import quaternion\n",
    "\n",
    "from joblib import Parallel, delayed\n",
    "import contextlib\n",
    "import joblib\n",
    "from tqdm import tqdm\n",
    "import pickle\n",
    "\n",
    "@contextlib.contextmanager\n",
    "def tqdm_joblib(tqdm_object):\n",
    "    \"\"\"Context manager to patch joblib to report into tqdm progress bar given as argument\"\"\"\n",
    "    class TqdmBatchCompletionCallback(joblib.parallel.BatchCompletionCallBack):\n",
    "        def __call__(self, *args, **kwargs):\n",
    "            tqdm_object.update(n=self.batch_size)\n",
    "            return super().__call__(*args, **kwargs)\n",
    "\n",
    "    old_batch_callback = joblib.parallel.BatchCompletionCallBack\n",
    "    joblib.parallel.BatchCompletionCallBack = TqdmBatchCompletionCallback\n",
    "    try:\n",
    "        yield tqdm_object\n",
    "    finally:\n",
    "        joblib.parallel.BatchCompletionCallBack = old_batch_callback\n",
    "        tqdm_object.close()"
   ]
  },
  {
   "cell_type": "code",
   "execution_count": 10,
   "id": "1dd5a4a8-670f-4dc9-a6ac-ffd4040dadaf",
   "metadata": {},
   "outputs": [
    {
     "data": {
      "text/plain": [
       "'/Users/davidbelgrod/Repos/libigl-python-bindings/igl/__init__.py'"
      ]
     },
     "execution_count": 10,
     "metadata": {},
     "output_type": "execute_result"
    }
   ],
   "source": [
    "igl.__file__"
   ]
  },
  {
   "cell_type": "code",
   "execution_count": 2,
   "id": "d8d2e42e-1613-4a0e-b34a-a810a7490ca1",
   "metadata": {},
   "outputs": [],
   "source": [
    "def similarity(Wp, Wv, sigma=0.1):\n",
    "    #BE shape\n",
    "    Wp = Wp if len(Wp.shape) == 1 else Wp.reshape(-1)\n",
    "    Wv = Wv if len(Wv.shape) == 1 else Wv.reshape(-1)\n",
    "    \n",
    "    tot = 0\n",
    "    for j in range(Wp.shape[0]):\n",
    "        for k in range(j+1, Wv.shape[0]):\n",
    "            tot += Wp[j]*Wp[k]*Wv[j]*Wv[k]*exp( -(Wp[j]*Wv[k] - Wp[k]*Wv[j])**2 / sigma**2)\n",
    "            \n",
    "    return tot\n",
    "\n",
    "def CoR(i, weights, vertices, faces, omega=0.1, pb = None):\n",
    "    \n",
    "    num = np.zeros([1, 3])\n",
    "    denom = np.zeros([1,3])\n",
    "    for t in range(faces.shape[0]):\n",
    "        # cmp = [i for i in range(3) if np.linalg.norm(weights[i] - weights[faces[t,i]]) < omega]\n",
    "        cmp = [0, 1,2]\n",
    "        if not cmp:\n",
    "            continue\n",
    "        s = similarity(weights[i], np.mean([weights[faces[t,c]] for c in cmp], axis = 0))\n",
    "        v = np.mean([vertices[faces[t,c]] for c in cmp], axis = 0)\n",
    "        a = igl.doublearea(vertices, faces[[t]]) / 2 \n",
    "\n",
    "        num += s * v * a\n",
    "        denom += s * a\n",
    "    \n",
    "    pi = num / denom\n",
    "    \n",
    "    if pb:\n",
    "        pb.value = i\n",
    "\n",
    "    return pi"
   ]
  },
  {
   "cell_type": "code",
   "execution_count": 3,
   "id": "e5c8f7c7-629b-4ceb-a0fc-e7268b3d1513",
   "metadata": {},
   "outputs": [],
   "source": [
    "V, F = igl.read_triangle_mesh('data/cloth_ball0.ply')"
   ]
  },
  {
   "cell_type": "code",
   "execution_count": 4,
   "id": "11a47125-88e8-46ad-b670-464649affe83",
   "metadata": {},
   "outputs": [],
   "source": [
    "_, V, F, _, _= igl.decimate(V, F, 5000)"
   ]
  },
  {
   "cell_type": "code",
   "execution_count": 6,
   "id": "552a2867-200c-406c-9be4-80689551a083",
   "metadata": {},
   "outputs": [
    {
     "name": "stderr",
     "output_type": "stream",
     "text": [
      "/Users/davidbelgrod/miniconda3/lib/python3.9/site-packages/jupyter_client/session.py:716: UserWarning: Message serialization failed with:\n",
      "Out of range float values are not JSON compliant\n",
      "Supporting this message is deprecated in jupyter-client 7, please make sure your message is JSON-compliant\n",
      "  content = self.pack(content)\n"
     ]
    },
    {
     "data": {
      "application/vnd.jupyter.widget-view+json": {
       "model_id": "4a82696a7d084a5bafdf8a8401a83c7a",
       "version_major": 2,
       "version_minor": 0
      },
      "text/plain": [
       "Renderer(camera=PerspectiveCamera(children=(DirectionalLight(color='white', intensity=0.6, position=(-0.009898…"
      ]
     },
     "metadata": {},
     "output_type": "display_data"
    },
    {
     "data": {
      "text/plain": [
       "<meshplot.Viewer.Viewer at 0x7fada0775dc0>"
      ]
     },
     "execution_count": 6,
     "metadata": {},
     "output_type": "execute_result"
    }
   ],
   "source": [
    "plane_surf_F = F[igl.facet_components(F) == 0]\n",
    "plane_surf_V = V[list(set(plane_surf_F.reshape(-1))), :]\n",
    "mp.plot(plane_surf_V, plane_surf_F, shading={\"wireframe\" : True})"
   ]
  },
  {
   "cell_type": "code",
   "execution_count": 7,
   "id": "82cda421-f0fa-45aa-9f74-9358f55132a5",
   "metadata": {},
   "outputs": [
    {
     "data": {
      "application/vnd.jupyter.widget-view+json": {
       "model_id": "3c2e7e3e5bb24efe8fed4d91bcc815c1",
       "version_major": 2,
       "version_minor": 0
      },
      "text/plain": [
       "Renderer(camera=PerspectiveCamera(children=(DirectionalLight(color='white', intensity=0.6, position=(-0.009898…"
      ]
     },
     "metadata": {},
     "output_type": "display_data"
    },
    {
     "data": {
      "text/plain": [
       "1"
      ]
     },
     "execution_count": 7,
     "metadata": {},
     "output_type": "execute_result"
    }
   ],
   "source": [
    "C = []\n",
    "mn = np.min(plane_surf_V,axis=0)\n",
    "for i in range(0, 60, 20):\n",
    "    for j in range (0, 60, 20):\n",
    "        C.append(mn + [i, 0, j])\n",
    "C = np.array(C)\n",
    "p = mp.plot(plane_surf_V,plane_surf_F)\n",
    "p.add_points(C, shading={\"point_size\": 4.0})"
   ]
  },
  {
   "cell_type": "code",
   "execution_count": 11,
   "id": "23791592-6aa3-4508-9ca8-37ed207764b4",
   "metadata": {},
   "outputs": [
    {
     "data": {
      "application/vnd.jupyter.widget-view+json": {
       "model_id": "d6a0bf14a636444b9e6bac570ee73aa8",
       "version_major": 2,
       "version_minor": 0
      },
      "text/plain": [
       "Renderer(camera=PerspectiveCamera(children=(DirectionalLight(color='white', intensity=0.6, position=(-0.009898…"
      ]
     },
     "metadata": {},
     "output_type": "display_data"
    }
   ],
   "source": [
    "bd = igl.boundary_loop(plane_surf_F)\n",
    "bd = bd[::11] \n",
    "C = plane_surf_V[bd,:]\n",
    "ctr = np.median(V, axis=0)\n",
    "C = np.concatenate((C, [ctr]), axis=0)\n",
    "\n",
    "p = mp.plot(plane_surf_V,plane_surf_F)\n",
    "p.add_points(C, shading={\"point_size\": 4.0})\n",
    "PH = np.array(range(C.shape[0]))\n",
    "_, b, bc = igl.boundary_conditions(plane_surf_V,plane_surf_F, C, PH , np.empty((0,2),dtype='int64'), np.empty((0,2),dtype='int64'))\n",
    "bbw_solver = igl.BBW()\n",
    "W = bbw_solver.solve(plane_surf_V, plane_surf_F, b ,bc)"
   ]
  },
  {
   "cell_type": "code",
   "execution_count": 13,
   "id": "f1d84462-fe9a-432c-9616-e9095383b2d6",
   "metadata": {},
   "outputs": [
    {
     "data": {
      "application/vnd.jupyter.widget-view+json": {
       "model_id": "891d7c35b2a24b2aa3895cedc81cc86c",
       "version_major": 2,
       "version_minor": 0
      },
      "text/plain": [
       "Renderer(camera=PerspectiveCamera(children=(DirectionalLight(color='white', intensity=0.6, position=(-0.009898…"
      ]
     },
     "metadata": {},
     "output_type": "display_data"
    },
    {
     "data": {
      "text/plain": [
       "<meshplot.Viewer.Viewer at 0x7fad4000ad90>"
      ]
     },
     "execution_count": 13,
     "metadata": {},
     "output_type": "execute_result"
    }
   ],
   "source": [
    "mp.plot(plane_surf_V, plane_surf_F, c = W[:,0])"
   ]
  },
  {
   "cell_type": "markdown",
   "id": "70177d99-bac9-41dd-aa9a-ef7ebb8673f3",
   "metadata": {},
   "source": [
    "# https://github.com/libigl/libigl-python-bindings/commit/bc3bb8cb6273b673d2690859a5da8d7092e96282"
   ]
  },
  {
   "cell_type": "code",
   "execution_count": 14,
   "id": "d676dec6-2c07-4b7a-affa-fea5b4f1dd4d",
   "metadata": {},
   "outputs": [],
   "source": [
    "# # wj(x0) = d(x0, Hj)^-1\n",
    "# W = np.array([1 / np.linalg.norm(plane_surf_V - C[i], axis=1) for i in range(C.shape[0])])\n",
    "# W = (W.T / np.linalg.norm(W, axis=0)[:,None])\n",
    "# mp.plot(plane_surf_V, plane_surf_F, c = W[:,4])"
   ]
  },
  {
   "cell_type": "code",
   "execution_count": 16,
   "id": "6daf580a-d775-483d-80d8-83df0309f85b",
   "metadata": {},
   "outputs": [
    {
     "name": "stderr",
     "output_type": "stream",
     "text": [
      "My calculation:   0%|                                                                  | 1/2258 [00:01<1:07:06,  1.78s/it]/var/folders/58/_cwvv9g93tq9zvwqf7kbc2_w0000gn/T/ipykernel_81917/1154579255.py:29: RuntimeWarning: invalid value encountered in true_divide\n",
      "My calculation:   1%|▍                                                                  | 14/2258 [00:03<07:33,  4.94it/s]/var/folders/58/_cwvv9g93tq9zvwqf7kbc2_w0000gn/T/ipykernel_81917/1154579255.py:29: RuntimeWarning: invalid value encountered in true_divide\n",
      "My calculation:   1%|▌                                                                  | 21/2258 [00:04<07:28,  4.99it/s]/var/folders/58/_cwvv9g93tq9zvwqf7kbc2_w0000gn/T/ipykernel_81917/1154579255.py:29: RuntimeWarning: invalid value encountered in true_divide\n",
      "My calculation:   1%|▉                                                                  | 31/2258 [00:06<06:41,  5.55it/s]/var/folders/58/_cwvv9g93tq9zvwqf7kbc2_w0000gn/T/ipykernel_81917/1154579255.py:29: RuntimeWarning: invalid value encountered in true_divide\n",
      "My calculation:   2%|█▎                                                                 | 43/2258 [00:08<06:26,  5.73it/s]/var/folders/58/_cwvv9g93tq9zvwqf7kbc2_w0000gn/T/ipykernel_81917/1154579255.py:29: RuntimeWarning: invalid value encountered in true_divide\n",
      "My calculation:   2%|█▋                                                                 | 55/2258 [00:09<05:15,  6.99it/s]/var/folders/58/_cwvv9g93tq9zvwqf7kbc2_w0000gn/T/ipykernel_81917/1154579255.py:29: RuntimeWarning: invalid value encountered in true_divide\n",
      "My calculation:   3%|█▉                                                                 | 64/2258 [00:11<05:38,  6.47it/s]/var/folders/58/_cwvv9g93tq9zvwqf7kbc2_w0000gn/T/ipykernel_81917/1154579255.py:29: RuntimeWarning: invalid value encountered in true_divide\n",
      "My calculation:   3%|██▎                                                                | 76/2258 [00:12<04:53,  7.42it/s]/var/folders/58/_cwvv9g93tq9zvwqf7kbc2_w0000gn/T/ipykernel_81917/1154579255.py:29: RuntimeWarning: invalid value encountered in true_divide\n",
      "My calculation:   4%|██▋                                                                | 89/2258 [00:14<04:39,  7.76it/s]/var/folders/58/_cwvv9g93tq9zvwqf7kbc2_w0000gn/T/ipykernel_81917/1154579255.py:29: RuntimeWarning: invalid value encountered in true_divide\n",
      "My calculation:   4%|██▉                                                                | 99/2258 [00:16<04:32,  7.92it/s]/var/folders/58/_cwvv9g93tq9zvwqf7kbc2_w0000gn/T/ipykernel_81917/1154579255.py:29: RuntimeWarning: invalid value encountered in true_divide\n",
      "My calculation:   5%|███▏                                                              | 110/2258 [00:17<04:36,  7.78it/s]/var/folders/58/_cwvv9g93tq9zvwqf7kbc2_w0000gn/T/ipykernel_81917/1154579255.py:29: RuntimeWarning: invalid value encountered in true_divide\n",
      "My calculation:   5%|███▌                                                              | 120/2258 [00:19<04:42,  7.56it/s]/var/folders/58/_cwvv9g93tq9zvwqf7kbc2_w0000gn/T/ipykernel_81917/1154579255.py:29: RuntimeWarning: invalid value encountered in true_divide\n",
      "My calculation:   6%|███▊                                                              | 130/2258 [00:21<05:21,  6.63it/s]/var/folders/58/_cwvv9g93tq9zvwqf7kbc2_w0000gn/T/ipykernel_81917/1154579255.py:29: RuntimeWarning: invalid value encountered in true_divide\n",
      "My calculation:   6%|████▏                                                             | 144/2258 [00:23<05:46,  6.11it/s]/var/folders/58/_cwvv9g93tq9zvwqf7kbc2_w0000gn/T/ipykernel_81917/1154579255.py:29: RuntimeWarning: invalid value encountered in true_divide\n",
      "My calculation:   7%|████▌                                                             | 154/2258 [00:25<05:40,  6.18it/s]/var/folders/58/_cwvv9g93tq9zvwqf7kbc2_w0000gn/T/ipykernel_81917/1154579255.py:29: RuntimeWarning: invalid value encountered in true_divide\n",
      "My calculation:   7%|████▊                                                             | 164/2258 [00:26<05:17,  6.59it/s]/var/folders/58/_cwvv9g93tq9zvwqf7kbc2_w0000gn/T/ipykernel_81917/1154579255.py:29: RuntimeWarning: invalid value encountered in true_divide\n",
      "My calculation:   8%|█████                                                             | 173/2258 [00:28<06:09,  5.65it/s]/var/folders/58/_cwvv9g93tq9zvwqf7kbc2_w0000gn/T/ipykernel_81917/1154579255.py:29: RuntimeWarning: invalid value encountered in true_divide\n",
      "My calculation: 100%|█████████████████████████████████████████████████████████████████| 2258/2258 [05:58<00:00,  6.30it/s]\n"
     ]
    }
   ],
   "source": [
    "V = plane_surf_V\n",
    "F = plane_surf_F\n",
    "\n",
    "P = np.zeros(V.shape)\n",
    "\n",
    "# P = pickle.load(open('data/CoR_cloth_ball.p', 'rb'))\n",
    "with tqdm_joblib(tqdm(desc=\"My calculation\", total=P.shape[0])) as progress_bar:\n",
    "    P = np.array(Parallel(n_jobs=10)(delayed(CoR)(i, W, V, F) for i in range(P.shape[0])))\n",
    "# pickle.dump(P, open('data/CoR_cloth_ball.p', 'wb'))"
   ]
  },
  {
   "cell_type": "code",
   "execution_count": 29,
   "id": "c9d774d6-5504-4d2e-8aa2-a00e608f11f9",
   "metadata": {},
   "outputs": [
    {
     "data": {
      "application/vnd.jupyter.widget-view+json": {
       "model_id": "a03e08478dd84c318ebb4c53839d753c",
       "version_major": 2,
       "version_minor": 0
      },
      "text/plain": [
       "Renderer(camera=PerspectiveCamera(children=(DirectionalLight(color='white', intensity=0.6, position=(-0.009898…"
      ]
     },
     "metadata": {},
     "output_type": "display_data"
    },
    {
     "data": {
      "text/plain": [
       "1"
      ]
     },
     "execution_count": 29,
     "metadata": {},
     "output_type": "execute_result"
    }
   ],
   "source": [
    "P = P.reshape(V.shape)\n",
    "plt = mp.plot(V,F)\n",
    "plt.add_points(P, shading={\"point_size\": 1.0})"
   ]
  },
  {
   "cell_type": "markdown",
   "id": "83c3f5a9-f084-4396-af54-c62929fd1229",
   "metadata": {},
   "source": [
    "The skinning weights for the first four models were computed by bounded biharmonic weights with controlled extrema [Jacobson et al. 2012b] and the skinning weights for the cloth model were computed by Maya’s closest distance bind with a dropoff rate of 2."
   ]
  },
  {
   "cell_type": "code",
   "execution_count": 24,
   "id": "50602ff9-5765-4205-899e-d8e9205386ec",
   "metadata": {},
   "outputs": [
    {
     "data": {
      "text/plain": [
       "(2258, 18)"
      ]
     },
     "execution_count": 24,
     "metadata": {},
     "output_type": "execute_result"
    }
   ],
   "source": [
    "W.shape"
   ]
  },
  {
   "cell_type": "code",
   "execution_count": 30,
   "id": "4899dc0d-4841-425c-827d-eb0afcbfc7ed",
   "metadata": {},
   "outputs": [
    {
     "data": {
      "text/plain": [
       "(2258, 3)"
      ]
     },
     "execution_count": 30,
     "metadata": {},
     "output_type": "execute_result"
    }
   ],
   "source": [
    "P.shape"
   ]
  },
  {
   "cell_type": "code",
   "execution_count": 33,
   "id": "2d9f4482-96f8-498f-b623-f59361a2730d",
   "metadata": {},
   "outputs": [
    {
     "data": {
      "text/plain": [
       "array([1., 0., 0., 0., 0., 0., 0., 0., 0., 0., 0., 0., 0., 0., 0., 0., 0.,\n",
       "       0.])"
      ]
     },
     "execution_count": 33,
     "metadata": {},
     "output_type": "execute_result"
    }
   ],
   "source": [
    "W[0]"
   ]
  },
  {
   "cell_type": "code",
   "execution_count": 34,
   "id": "dc9f900a-7c84-41c8-ba3f-08a5b9884337",
   "metadata": {},
   "outputs": [
    {
     "data": {
      "text/plain": [
       "array([nan, nan, nan])"
      ]
     },
     "execution_count": 34,
     "metadata": {},
     "output_type": "execute_result"
    }
   ],
   "source": [
    "P[0]"
   ]
  },
  {
   "cell_type": "code",
   "execution_count": null,
   "id": "e1a2328e-36af-45c5-b523-4123dd6eb5bc",
   "metadata": {},
   "outputs": [],
   "source": []
  }
 ],
 "metadata": {
  "kernelspec": {
   "display_name": "Python 3 (ipykernel)",
   "language": "python",
   "name": "python3"
  },
  "language_info": {
   "codemirror_mode": {
    "name": "ipython",
    "version": 3
   },
   "file_extension": ".py",
   "mimetype": "text/x-python",
   "name": "python",
   "nbconvert_exporter": "python",
   "pygments_lexer": "ipython3",
   "version": "3.9.5"
  }
 },
 "nbformat": 4,
 "nbformat_minor": 5
}
