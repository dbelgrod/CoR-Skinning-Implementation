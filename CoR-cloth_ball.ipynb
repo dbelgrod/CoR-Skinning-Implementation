{
 "cells": [
  {
   "cell_type": "code",
   "execution_count": 67,
   "id": "71ca8266-2da8-4beb-ab39-6a906fb9f53e",
   "metadata": {},
   "outputs": [],
   "source": [
    "import igl\n",
    "\n",
    "import numpy as np\n",
    "import igl\n",
    "import meshplot as mp\n",
    "from scipy.spatial.transform import Rotation\n",
    "import ipywidgets as iw\n",
    "import time\n",
    "from math import exp\n",
    "import quaternion\n",
    "\n",
    "from joblib import Parallel, delayed\n",
    "import contextlib\n",
    "import joblib\n",
    "from tqdm import tqdm\n",
    "import pickle\n",
    "\n",
    "@contextlib.contextmanager\n",
    "def tqdm_joblib(tqdm_object):\n",
    "    \"\"\"Context manager to patch joblib to report into tqdm progress bar given as argument\"\"\"\n",
    "    class TqdmBatchCompletionCallback(joblib.parallel.BatchCompletionCallBack):\n",
    "        def __call__(self, *args, **kwargs):\n",
    "            tqdm_object.update(n=self.batch_size)\n",
    "            return super().__call__(*args, **kwargs)\n",
    "\n",
    "    old_batch_callback = joblib.parallel.BatchCompletionCallBack\n",
    "    joblib.parallel.BatchCompletionCallBack = TqdmBatchCompletionCallback\n",
    "    try:\n",
    "        yield tqdm_object\n",
    "    finally:\n",
    "        joblib.parallel.BatchCompletionCallBack = old_batch_callback\n",
    "        tqdm_object.close()"
   ]
  },
  {
   "cell_type": "code",
   "execution_count": 68,
   "id": "d8d2e42e-1613-4a0e-b34a-a810a7490ca1",
   "metadata": {},
   "outputs": [],
   "source": [
    "def similarity(Wp, Wv, sigma=0.1):\n",
    "    #BE shape\n",
    "    Wp = Wp if len(Wp.shape) == 1 else Wp.reshape(-1)\n",
    "    Wv = Wv if len(Wv.shape) == 1 else Wv.reshape(-1)\n",
    "    \n",
    "    tot = 0\n",
    "    for j in range(Wp.shape[0]):\n",
    "        for k in range(j+1, Wv.shape[0]):\n",
    "            tot += Wp[j]*Wp[k]*Wv[j]*Wv[k]*exp( -(Wp[j]*Wv[k] - Wp[k]*Wv[j])**2 / sigma**2)\n",
    "            \n",
    "    return tot\n",
    "\n",
    "def CoR(i, weights, vertices, faces, omega=0.1, pb = None):\n",
    "    \n",
    "    num = np.zeros([1, 3])\n",
    "    denom = np.zeros([1,3])\n",
    "    for t in range(faces.shape[0]):\n",
    "        # cmp = [i for i in range(3) if np.linalg.norm(weights[i] - weights[faces[t,i]]) < omega]\n",
    "        cmp = [0, 1,2]\n",
    "        if not cmp:\n",
    "            continue\n",
    "        s = similarity(weights[i], np.mean([weights[faces[t,c]] for c in cmp], axis = 0))\n",
    "        v = np.mean([vertices[faces[t,c]] for c in cmp], axis = 0)\n",
    "        a = igl.doublearea(vertices, faces[[t]]) / 2 \n",
    "\n",
    "        num += s * v * a\n",
    "        denom += s * a\n",
    "    \n",
    "    pi = num / denom\n",
    "    \n",
    "    if pb:\n",
    "        pb.value = i\n",
    "\n",
    "    return pi"
   ]
  },
  {
   "cell_type": "code",
   "execution_count": 69,
   "id": "e5c8f7c7-629b-4ceb-a0fc-e7268b3d1513",
   "metadata": {},
   "outputs": [],
   "source": [
    "V, F = igl.read_triangle_mesh('data/cloth_ball0.ply')"
   ]
  },
  {
   "cell_type": "code",
   "execution_count": 70,
   "id": "11a47125-88e8-46ad-b670-464649affe83",
   "metadata": {},
   "outputs": [],
   "source": [
    "_, V, F, _, _= igl.decimate(V, F, 5000)"
   ]
  },
  {
   "cell_type": "code",
   "execution_count": 71,
   "id": "552a2867-200c-406c-9be4-80689551a083",
   "metadata": {},
   "outputs": [
    {
     "name": "stderr",
     "output_type": "stream",
     "text": [
      "/Users/davidbelgrod/miniconda3/lib/python3.9/site-packages/jupyter_client/session.py:716: UserWarning: Message serialization failed with:\n",
      "Out of range float values are not JSON compliant\n",
      "Supporting this message is deprecated in jupyter-client 7, please make sure your message is JSON-compliant\n",
      "  content = self.pack(content)\n"
     ]
    },
    {
     "data": {
      "application/vnd.jupyter.widget-view+json": {
       "model_id": "b69e5812347841318ee6299cb33e9f03",
       "version_major": 2,
       "version_minor": 0
      },
      "text/plain": [
       "Renderer(camera=PerspectiveCamera(children=(DirectionalLight(color='white', intensity=0.6, position=(-0.009898…"
      ]
     },
     "metadata": {},
     "output_type": "display_data"
    },
    {
     "data": {
      "text/plain": [
       "<meshplot.Viewer.Viewer at 0x7fd7c8d758e0>"
      ]
     },
     "execution_count": 71,
     "metadata": {},
     "output_type": "execute_result"
    }
   ],
   "source": [
    "plane_surf_F = F[igl.face_components(F) == 0]\n",
    "plane_surf_V = V[list(set(plane_surf_F.reshape(-1))), :]\n",
    "mp.plot(plane_surf_V, plane_surf_F, shading={\"wireframe\" : True})"
   ]
  },
  {
   "cell_type": "code",
   "execution_count": 72,
   "id": "82cda421-f0fa-45aa-9f74-9358f55132a5",
   "metadata": {},
   "outputs": [
    {
     "data": {
      "application/vnd.jupyter.widget-view+json": {
       "model_id": "f09a0791c101421f9f9d607cd835bb45",
       "version_major": 2,
       "version_minor": 0
      },
      "text/plain": [
       "Renderer(camera=PerspectiveCamera(children=(DirectionalLight(color='white', intensity=0.6, position=(-0.009898…"
      ]
     },
     "metadata": {},
     "output_type": "display_data"
    },
    {
     "data": {
      "text/plain": [
       "1"
      ]
     },
     "execution_count": 72,
     "metadata": {},
     "output_type": "execute_result"
    }
   ],
   "source": [
    "C = []\n",
    "mn = np.min(plane_surf_V,axis=0)\n",
    "for i in range(0, 60, 20):\n",
    "    for j in range (0, 60, 20):\n",
    "        C.append(mn + [i, 0, j])\n",
    "C = np.array(C)\n",
    "p = mp.plot(plane_surf_V,plane_surf_F)\n",
    "p.add_points(C, shading={\"point_size\": 4.0})"
   ]
  },
  {
   "cell_type": "code",
   "execution_count": 73,
   "id": "23791592-6aa3-4508-9ca8-37ed207764b4",
   "metadata": {},
   "outputs": [],
   "source": [
    "# bd = igl.boundary_loop(plane_surf_F)\n",
    "# bd = bd[::11] \n",
    "# C = plane_surf_V[bd,:]\n",
    "# ctr = np.median(V, axis=0)\n",
    "# C = np.concatenate((C, [ctr]), axis=0)\n",
    "\n",
    "# p = mp.plot(plane_surf_V,plane_surf_F)\n",
    "# p.add_points(C, shading={\"point_size\": 4.0})\n",
    "# PH = np.array(range(C.shape[0]))\n",
    "# _, b, bc = igl.boundary_conditions(plane_surf_V,plane_surf_F, C, PH , np.empty((0,2),dtype='int64'), np.empty((0,2),dtype='int64'))\n",
    "# bbw_solver = igl.BBW()\n",
    "# bbw_solver.solve(plane_surf_V, plane_surf_F, b ,bc)"
   ]
  },
  {
   "cell_type": "code",
   "execution_count": 33,
   "id": "f1d84462-fe9a-432c-9616-e9095383b2d6",
   "metadata": {},
   "outputs": [
    {
     "ename": "ValueError",
     "evalue": "Invalid dimension for argument v_init. Must have shape (#vertices, 2) for triangle mesh inputs. You passed in V with shape (2258, 3)",
     "output_type": "error",
     "traceback": [
      "\u001b[0;31m---------------------------------------------------------------------------\u001b[0m",
      "\u001b[0;31mValueError\u001b[0m                                Traceback (most recent call last)",
      "\u001b[0;32m/var/folders/58/_cwvv9g93tq9zvwqf7kbc2_w0000gn/T/ipykernel_16426/3361662482.py\u001b[0m in \u001b[0;36m<module>\u001b[0;34m\u001b[0m\n\u001b[1;32m      2\u001b[0m \u001b[0m_\u001b[0m\u001b[0;34m,\u001b[0m \u001b[0mb\u001b[0m\u001b[0;34m,\u001b[0m \u001b[0mbc\u001b[0m \u001b[0;34m=\u001b[0m \u001b[0migl\u001b[0m\u001b[0;34m.\u001b[0m\u001b[0mboundary_conditions\u001b[0m\u001b[0;34m(\u001b[0m\u001b[0mplane_surf_V\u001b[0m\u001b[0;34m,\u001b[0m\u001b[0mplane_surf_F\u001b[0m\u001b[0;34m,\u001b[0m \u001b[0mC\u001b[0m\u001b[0;34m,\u001b[0m \u001b[0mP\u001b[0m \u001b[0;34m,\u001b[0m \u001b[0mnp\u001b[0m\u001b[0;34m.\u001b[0m\u001b[0mempty\u001b[0m\u001b[0;34m(\u001b[0m\u001b[0;34m(\u001b[0m\u001b[0;36m0\u001b[0m\u001b[0;34m,\u001b[0m\u001b[0;36m2\u001b[0m\u001b[0;34m)\u001b[0m\u001b[0;34m,\u001b[0m\u001b[0mdtype\u001b[0m\u001b[0;34m=\u001b[0m\u001b[0;34m'int64'\u001b[0m\u001b[0;34m)\u001b[0m\u001b[0;34m,\u001b[0m \u001b[0mnp\u001b[0m\u001b[0;34m.\u001b[0m\u001b[0mempty\u001b[0m\u001b[0;34m(\u001b[0m\u001b[0;34m(\u001b[0m\u001b[0;36m0\u001b[0m\u001b[0;34m,\u001b[0m\u001b[0;36m2\u001b[0m\u001b[0;34m)\u001b[0m\u001b[0;34m,\u001b[0m\u001b[0mdtype\u001b[0m\u001b[0;34m=\u001b[0m\u001b[0;34m'int64'\u001b[0m\u001b[0;34m)\u001b[0m\u001b[0;34m)\u001b[0m\u001b[0;34m\u001b[0m\u001b[0;34m\u001b[0m\u001b[0m\n\u001b[1;32m      3\u001b[0m \u001b[0mbbw_solver\u001b[0m \u001b[0;34m=\u001b[0m \u001b[0migl\u001b[0m\u001b[0;34m.\u001b[0m\u001b[0mBBW\u001b[0m\u001b[0;34m(\u001b[0m\u001b[0;34m)\u001b[0m\u001b[0;34m\u001b[0m\u001b[0;34m\u001b[0m\u001b[0m\n\u001b[0;32m----> 4\u001b[0;31m \u001b[0mbbw_solver\u001b[0m\u001b[0;34m.\u001b[0m\u001b[0msolve\u001b[0m\u001b[0;34m(\u001b[0m\u001b[0mplane_surf_V\u001b[0m\u001b[0;34m,\u001b[0m \u001b[0mplane_surf_F\u001b[0m\u001b[0;34m,\u001b[0m \u001b[0mb\u001b[0m \u001b[0;34m,\u001b[0m\u001b[0mbc\u001b[0m\u001b[0;34m)\u001b[0m\u001b[0;34m\u001b[0m\u001b[0;34m\u001b[0m\u001b[0m\n\u001b[0m",
      "\u001b[0;31mValueError\u001b[0m: Invalid dimension for argument v_init. Must have shape (#vertices, 2) for triangle mesh inputs. You passed in V with shape (2258, 3)"
     ]
    }
   ],
   "source": []
  },
  {
   "cell_type": "markdown",
   "id": "70177d99-bac9-41dd-aa9a-ef7ebb8673f3",
   "metadata": {},
   "source": [
    "# https://github.com/libigl/libigl-python-bindings/commit/bc3bb8cb6273b673d2690859a5da8d7092e96282"
   ]
  },
  {
   "cell_type": "code",
   "execution_count": 74,
   "id": "d676dec6-2c07-4b7a-affa-fea5b4f1dd4d",
   "metadata": {},
   "outputs": [
    {
     "data": {
      "application/vnd.jupyter.widget-view+json": {
       "model_id": "53ef4bc9a40249d19e828e30fda4186c",
       "version_major": 2,
       "version_minor": 0
      },
      "text/plain": [
       "Renderer(camera=PerspectiveCamera(children=(DirectionalLight(color='white', intensity=0.6, position=(-0.009898…"
      ]
     },
     "metadata": {},
     "output_type": "display_data"
    },
    {
     "data": {
      "text/plain": [
       "<meshplot.Viewer.Viewer at 0x7fd7d97535b0>"
      ]
     },
     "execution_count": 74,
     "metadata": {},
     "output_type": "execute_result"
    }
   ],
   "source": [
    "# wj(x0) = d(x0, Hj)^-1\n",
    "W = np.array([1 / np.linalg.norm(plane_surf_V - C[i], axis=1) for i in range(C.shape[0])])\n",
    "W = (W.T / np.linalg.norm(W, axis=0)[:,None])\n",
    "mp.plot(plane_surf_V, plane_surf_F, c = W[:,4])"
   ]
  },
  {
   "cell_type": "code",
   "execution_count": 75,
   "id": "6daf580a-d775-483d-80d8-83df0309f85b",
   "metadata": {},
   "outputs": [],
   "source": [
    "V = plane_surf_V\n",
    "F = plane_surf_F\n",
    "\n",
    "P = np.zeros(V.shape)\n",
    "\n",
    "P = pickle.load(open('data/CoR_cloth_ball.p', 'rb'))\n",
    "# with tqdm_joblib(tqdm(desc=\"My calculation\", total=P.shape[0])) as progress_bar:\n",
    "#     P = np.array(Parallel(n_jobs=10)(delayed(CoR)(i, W, V, F) for i in range(P.shape[0])))\n",
    "# pickle.dump(P, open('data/CoR_cloth_ball.p', 'wb'))"
   ]
  },
  {
   "cell_type": "code",
   "execution_count": 80,
   "id": "c9d774d6-5504-4d2e-8aa2-a00e608f11f9",
   "metadata": {},
   "outputs": [
    {
     "data": {
      "application/vnd.jupyter.widget-view+json": {
       "model_id": "3e405f2bf39c496782cbab95e5092308",
       "version_major": 2,
       "version_minor": 0
      },
      "text/plain": [
       "Renderer(camera=PerspectiveCamera(children=(DirectionalLight(color='white', intensity=0.6, position=(-0.009898…"
      ]
     },
     "metadata": {},
     "output_type": "display_data"
    },
    {
     "data": {
      "text/plain": [
       "1"
      ]
     },
     "execution_count": 80,
     "metadata": {},
     "output_type": "execute_result"
    }
   ],
   "source": [
    "plt = mp.plot(V,F)\n",
    "plt.add_points(P, shading={\"point_size\": 1.0})"
   ]
  },
  {
   "cell_type": "markdown",
   "id": "83c3f5a9-f084-4396-af54-c62929fd1229",
   "metadata": {},
   "source": [
    "The skinning weights for the first four models were computed by bounded biharmonic weights with controlled extrema [Jacobson et al. 2012b] and the skinning weights for the cloth model were computed by Maya’s closest distance bind with a dropoff rate of 2."
   ]
  },
  {
   "cell_type": "code",
   "execution_count": 65,
   "id": "50602ff9-5765-4205-899e-d8e9205386ec",
   "metadata": {},
   "outputs": [],
   "source": []
  },
  {
   "cell_type": "code",
   "execution_count": null,
   "id": "4899dc0d-4841-425c-827d-eb0afcbfc7ed",
   "metadata": {},
   "outputs": [],
   "source": []
  },
  {
   "cell_type": "code",
   "execution_count": null,
   "id": "2d9f4482-96f8-498f-b623-f59361a2730d",
   "metadata": {},
   "outputs": [],
   "source": []
  }
 ],
 "metadata": {
  "kernelspec": {
   "display_name": "Python 3 (ipykernel)",
   "language": "python",
   "name": "python3"
  },
  "language_info": {
   "codemirror_mode": {
    "name": "ipython",
    "version": 3
   },
   "file_extension": ".py",
   "mimetype": "text/x-python",
   "name": "python",
   "nbconvert_exporter": "python",
   "pygments_lexer": "ipython3",
   "version": "3.9.5"
  }
 },
 "nbformat": 4,
 "nbformat_minor": 5
}
