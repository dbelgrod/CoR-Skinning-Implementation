{
 "cells": [
  {
   "cell_type": "code",
   "execution_count": 1,
   "id": "2ed3d274-a4ce-4a5b-9653-3a2ea03e5888",
   "metadata": {},
   "outputs": [],
   "source": [
    "import igl"
   ]
  },
  {
   "cell_type": "code",
   "execution_count": 2,
   "id": "5271ce69-9b37-4c7a-9a2e-fefe9eb413e9",
   "metadata": {},
   "outputs": [],
   "source": [
    "#https://github.com/libigl/libigl-tutorial-data"
   ]
  },
  {
   "cell_type": "code",
   "execution_count": 3,
   "id": "0810c0aa-df73-485b-8b2c-c096335214e5",
   "metadata": {
    "tags": []
   },
   "outputs": [],
   "source": [
    "import numpy as np\n",
    "import igl\n",
    "import meshplot as mp\n",
    "from scipy.spatial.transform import Rotation\n",
    "import ipywidgets as iw\n",
    "import time\n",
    "from math import exp\n",
    "import quaternion\n",
    "import pickle\n",
    "\n",
    "from joblib import Parallel, delayed\n",
    "import contextlib\n",
    "import joblib\n",
    "from tqdm import tqdm\n",
    "\n",
    "@contextlib.contextmanager\n",
    "def tqdm_joblib(tqdm_object):\n",
    "    \"\"\"Context manager to patch joblib to report into tqdm progress bar given as argument\"\"\"\n",
    "    class TqdmBatchCompletionCallback(joblib.parallel.BatchCompletionCallBack):\n",
    "        def __call__(self, *args, **kwargs):\n",
    "            tqdm_object.update(n=self.batch_size)\n",
    "            return super().__call__(*args, **kwargs)\n",
    "\n",
    "    old_batch_callback = joblib.parallel.BatchCompletionCallBack\n",
    "    joblib.parallel.BatchCompletionCallBack = TqdmBatchCompletionCallback\n",
    "    try:\n",
    "        yield tqdm_object\n",
    "    finally:\n",
    "        joblib.parallel.BatchCompletionCallBack = old_batch_callback\n",
    "        tqdm_object.close()"
   ]
  },
  {
   "cell_type": "code",
   "execution_count": 4,
   "id": "430c8747-1838-4529-824a-94932ade1402",
   "metadata": {},
   "outputs": [
    {
     "name": "stderr",
     "output_type": "stream",
     "text": [
      "/Users/davidbelgrod/miniconda3/lib/python3.9/site-packages/jupyter_client/session.py:716: UserWarning: Message serialization failed with:\n",
      "Out of range float values are not JSON compliant\n",
      "Supporting this message is deprecated in jupyter-client 7, please make sure your message is JSON-compliant\n",
      "  content = self.pack(content)\n"
     ]
    },
    {
     "data": {
      "application/vnd.jupyter.widget-view+json": {
       "model_id": "6d9e505ef31f407586231c6c36215df2",
       "version_major": 2,
       "version_minor": 0
      },
      "text/plain": [
       "Renderer(camera=PerspectiveCamera(children=(DirectionalLight(color='white', intensity=0.6, position=(0.0001610…"
      ]
     },
     "metadata": {},
     "output_type": "display_data"
    },
    {
     "data": {
      "text/plain": [
       "<meshplot.Viewer.Viewer at 0x7fe6e87031f0>"
      ]
     },
     "execution_count": 4,
     "metadata": {},
     "output_type": "execute_result"
    }
   ],
   "source": [
    "V, F = igl.read_triangle_mesh('data/arm.obj')\n",
    "C,BE,_,_,_,_ = igl.read_tgf('data/arm.tgf')\n",
    "W = igl.read_dmat('data/arm-weights.dmat')\n",
    "# labels = np.load('data/hand.label.npy').astype(int)\n",
    "# v -= v.min(axis=0)\n",
    "# v /= v.max()\n",
    "mp.plot(V,F)"
   ]
  },
  {
   "cell_type": "code",
   "execution_count": 5,
   "id": "696227b3-d7df-49c2-8a7c-bc4c47c2a34e",
   "metadata": {},
   "outputs": [],
   "source": [
    "# TV = np.concatenate((V, C))\n",
    "# TE = BE + V.shape[0]"
   ]
  },
  {
   "cell_type": "code",
   "execution_count": 6,
   "id": "f78811fd-0941-41a4-8ac8-9a738d439ef1",
   "metadata": {},
   "outputs": [],
   "source": [
    "# labels = np.concatenate((np.zeros(V.shape[0]), np.array(range(1,C.shape[0]+1)))).astype(int)\n",
    "labels = np.array(range(BE.shape[0])).astype(int)"
   ]
  },
  {
   "cell_type": "code",
   "execution_count": null,
   "id": "c0500a98-ea5b-4e5e-b9a1-8c691beb6eb7",
   "metadata": {},
   "outputs": [],
   "source": []
  },
  {
   "cell_type": "code",
   "execution_count": 7,
   "id": "602c6915-33e1-49c7-98ff-b16df2e00e8e",
   "metadata": {},
   "outputs": [],
   "source": [
    "def circle_sum(q1, q2):\n",
    "    return q1 + q2 if np.dot(quaternion.as_float_array(q1), quaternion.as_float_array(q2)) >= 0 else q1 - q2\n",
    "\n",
    "def apply_weighted_rotation(vertices, wgts, quat, CoR, translation): #vertices, weights, rot (as quat), CoR, translation array \n",
    "    vnew = vertices.copy()\n",
    "    for i in range(vertices.shape[0]):\n",
    "        vi = vertices[i]\n",
    "        wi = wgts[i]\n",
    "        \n",
    "        q = quaternion.as_quat_array([0,0,0,0])\n",
    "        for j in range(BE.shape[0]): # #BE\n",
    "            qj = quat[j]\n",
    "            wij = wi[j]\n",
    "            q = circle_sum(q, wij*qj)\n",
    "\n",
    "        # wqi  = np.sum(qi, axis=0)\n",
    "        q /= np.linalg.norm(quaternion.as_float_array(q))\n",
    "        \n",
    "        R = quaternion.as_rotation_matrix(q)\n",
    "        \n",
    "        Rtilda = np.zeros((3,3))\n",
    "        ttilda = np.zeros((3,1))\n",
    "        \n",
    "        for j in range(BE.shape[0]):\n",
    "            Rj = quaternion.as_rotation_matrix(quat[j]) #3 x 3\n",
    "            tj = translation[j] # 1 x 3\n",
    "            wij = wi[j]\n",
    "            Rtilda += wij*Rj\n",
    "            ttilda += wij*tj.reshape((3,1))\n",
    "            \n",
    "        t = Rtilda @ CoR[i].reshape((3,1)) + ttilda - R @ CoR[i].reshape((3,1))\n",
    "        \n",
    "        vnew[i] = (R @ vi.reshape((3,1)) + t).reshape(3)\n",
    "\n",
    "    return vnew"
   ]
  },
  {
   "cell_type": "code",
   "execution_count": null,
   "id": "053633fa-14d3-4b67-a308-c3de0f1198db",
   "metadata": {},
   "outputs": [],
   "source": []
  },
  {
   "cell_type": "code",
   "execution_count": null,
   "id": "242f4d42-d9af-4c33-9553-6c51e7f396db",
   "metadata": {},
   "outputs": [],
   "source": []
  },
  {
   "cell_type": "code",
   "execution_count": 8,
   "id": "3de20c35-bda1-4fcf-822f-d01d5b8317e7",
   "metadata": {},
   "outputs": [],
   "source": [
    "def similarity(Wp, Wv, sigma=0.1):\n",
    "    #BE shape\n",
    "    Wp = Wp if len(Wp.shape) == 1 else Wp.reshape(-1)\n",
    "    Wv = Wv if len(Wv.shape) == 1 else Wv.reshape(-1)\n",
    "    \n",
    "    tot = 0\n",
    "    for j in range(Wp.shape[0]):\n",
    "        for k in range(j+1, Wv.shape[0]):\n",
    "            tot += Wp[j]*Wp[k]*Wv[j]*Wv[k]*exp( -(Wp[j]*Wv[k] - Wp[k]*Wv[j])**2 / sigma**2)\n",
    "            \n",
    "    return tot\n",
    "\n",
    "def CoR(i, weights, vertices, faces, omega=0.1, pb = None):\n",
    "    \n",
    "    num = np.zeros([1, 3])\n",
    "    denom = np.zeros([1,3])\n",
    "    for t in range(faces.shape[0]):\n",
    "        # cmp = [i for i in range(3) if np.linalg.norm(weights[i] - weights[faces[t,i]]) < omega]\n",
    "        cmp = [0, 1,2]\n",
    "        if not cmp:\n",
    "            continue\n",
    "        s = similarity(weights[i], np.mean([weights[faces[t,c]] for c in cmp], axis = 0))\n",
    "        v = np.mean([vertices[faces[t,c]] for c in cmp], axis = 0)\n",
    "        a = igl.doublearea(vertices, faces[[t]]) / 2 \n",
    "\n",
    "        num += s * v * a\n",
    "        denom += s * a\n",
    "    \n",
    "    pi = num / denom\n",
    "    \n",
    "    if pb:\n",
    "        pb.value = i\n",
    "\n",
    "    return pi"
   ]
  },
  {
   "cell_type": "code",
   "execution_count": 12,
   "id": "b3c93d09-ee05-4686-95ed-9b82a60e2c20",
   "metadata": {
    "tags": []
   },
   "outputs": [
    {
     "name": "stderr",
     "output_type": "stream",
     "text": [
      "My calculation: 100%|███████████████████████| 8311/8311 [14:02<00:00,  9.87it/s]\n"
     ]
    }
   ],
   "source": [
    "# P = np.zeros(V.shape)\n",
    "# with tqdm_joblib(tqdm(desc=\"My calculation\", total=P.shape[0])) as progress_bar:\n",
    "#     P = np.array(Parallel(n_jobs=10)(delayed(CoR)(i, W, V, F) for i in range(P.shape[0])))"
   ]
  },
  {
   "cell_type": "code",
   "execution_count": null,
   "id": "f1205eb1-ad23-4198-b79b-ad6805afe499",
   "metadata": {},
   "outputs": [],
   "source": []
  },
  {
   "cell_type": "code",
   "execution_count": 25,
   "id": "917e0f38-7654-4700-b69b-1120c79f1003",
   "metadata": {},
   "outputs": [],
   "source": [
    "# pickle.dump(P, open(\"data/CoR.p\", \"wb\"))"
   ]
  },
  {
   "cell_type": "code",
   "execution_count": 26,
   "id": "2f3eae4a-ebdc-4446-8824-6247069cd8f3",
   "metadata": {},
   "outputs": [
    {
     "data": {
      "application/vnd.jupyter.widget-view+json": {
       "model_id": "d0a3ba1f16aa4983900a6f08e2b7c5fc",
       "version_major": 2,
       "version_minor": 0
      },
      "text/plain": [
       "Renderer(camera=PerspectiveCamera(children=(DirectionalLight(color='white', intensity=0.6, position=(0.0007487…"
      ]
     },
     "metadata": {},
     "output_type": "display_data"
    },
    {
     "data": {
      "text/plain": [
       "<meshplot.Viewer.Viewer at 0x7fe6d82d1ee0>"
      ]
     },
     "execution_count": 26,
     "metadata": {},
     "output_type": "execute_result"
    }
   ],
   "source": [
    "P = pickle.load(open('data/CoR.p', 'rb'))\n",
    "mp.plot(P)"
   ]
  },
  {
   "cell_type": "code",
   "execution_count": 27,
   "id": "4b369342-2088-42c9-b9d1-7d1de0c751d3",
   "metadata": {},
   "outputs": [],
   "source": [
    "OCoR = V.copy()\n",
    "\n",
    "pos_f_saver = np.zeros((labels.max()+1, 7))\n",
    "\n",
    "def pos_f(s,x,y,z, w, α, β, γ):\n",
    "    global OCoR\n",
    "\n",
    "    clicked_edges = BE[np.isin(labels, s)]\n",
    "    slices = []\n",
    "    for e in clicked_edges:\n",
    "        for v in e:\n",
    "            if v not in slices:\n",
    "                slices.append(v)\n",
    "                \n",
    " \n",
    "        \n",
    "    # r = Rotation.from_euler('xyz', [α, β, γ], degrees=True)\n",
    "    r = Rotation.from_quat([α, β, γ, w])\n",
    "    \n",
    "    v_slice = C[slices] + np.array([[x,y,z]])\n",
    "    \n",
    "    C1 = C.copy()\n",
    "    C1[slices] = r.apply(v_slice)\n",
    "    for si in s:\n",
    "        pos_f_saver[si] = [x,y,z,w,α,β,γ]\n",
    "\n",
    "    \n",
    "    q = np.zeros((BE.shape[0], 4))\n",
    "    t = np.zeros((BE.shape[0], 3))\n",
    "    for i in range(BE.shape[0]):\n",
    "        # res =  Qt0[i].inverse() * Qt1[i] \n",
    "        # diff[i,:] = [res.w, res.x, res.y, res.z]\n",
    "        xi,yi,zi,wi,αi,βi,γi = pos_f_saver[i]\n",
    "        q[i,:] = [wi,αi,βi,γi]\n",
    "        t[i,:] = [xi, yi, zi]\n",
    "    \n",
    "    # q /= np.linalg.norm(q, axis=1)\n",
    "    Q = quaternion.as_quat_array(q)\n",
    "    \n",
    "    OCoR = V.copy()\n",
    "    OCoR = apply_weighted_rotation(V, W, Q, P, t)\n",
    "    \n",
    "\n",
    "    v_deformed = pos_f.deformer(OCoR)\n",
    "    p.update_object(vertices = v_deformed)\n",
    "    p.remove_object(max(p._Viewer__objects.keys()))\n",
    "    p.add_edges(C1+np.repeat([[0,.25,0]], C1.shape[0], axis=0), BE, shading={\"line_color\": \"green\"})\n",
    "  \n",
    "pos_f.deformer = lambda x:x"
   ]
  },
  {
   "cell_type": "code",
   "execution_count": 15,
   "id": "502667d8-c06a-4472-a3c7-697574918e4d",
   "metadata": {},
   "outputs": [],
   "source": [
    "def widgets_wrapper():\n",
    "    # segment_widget = iw.Dropdown(options=np.arange(labels.max()) + 1)\n",
    "    segment_widget = iw.SelectMultiple(options=np.arange(labels.max()+1))\n",
    "    translate_widget = {i:iw.FloatSlider(min=-1, max=1, value=0) \n",
    "                        for i in 'xyz'}\n",
    "    # rotate_widget = {a:iw.FloatSlider(min=-90, max=90, value=0, step=1) \n",
    "    #                  for a in 'αβγ'}\n",
    "    real_widget = {a:iw.FloatSlider(min=-2, max=2, value=1, step=.25) \n",
    "                     for a in 'w'}\n",
    "    imag_widget = {a:iw.FloatSlider(min=-1, max=1, value=0, step=.1) \n",
    "                     for a in 'αβγ'}\n",
    "\n",
    "    def update_seg(*args):\n",
    "        (translate_widget['x'].value,translate_widget['y'].value,\n",
    "        translate_widget['z'].value, real_widget['w'].value,\n",
    "        imag_widget['α'].value,imag_widget['β'].value,\n",
    "        imag_widget['γ'].value) = pos_f_saver[segment_widget.value]\n",
    "    segment_widget.observe(update_seg, 'value')\n",
    "    widgets_dict = dict(s=segment_widget)\n",
    "    widgets_dict.update(translate_widget)\n",
    "    widgets_dict.update(real_widget)\n",
    "    widgets_dict.update(imag_widget)\n",
    "    return widgets_dict"
   ]
  },
  {
   "cell_type": "code",
   "execution_count": 16,
   "id": "2ced7bef-b2c6-4e01-941f-185174399a50",
   "metadata": {},
   "outputs": [
    {
     "data": {
      "text/plain": [
       "' (Optional) Register this function to perform interactive deformation\\npos_f.deformer = position_deformer\\n'"
      ]
     },
     "execution_count": 16,
     "metadata": {},
     "output_type": "execute_result"
    }
   ],
   "source": [
    "def position_deformer(target_pos):\n",
    "    '''Fill in this function to change positions'''\n",
    "    return target_pos\n",
    "''' (Optional) Register this function to perform interactive deformation\n",
    "pos_f.deformer = position_deformer\n",
    "'''"
   ]
  },
  {
   "cell_type": "code",
   "execution_count": 28,
   "id": "e06983f3-c1d9-4ee0-b1b2-6638ad342c01",
   "metadata": {},
   "outputs": [
    {
     "data": {
      "application/vnd.jupyter.widget-view+json": {
       "model_id": "79cf56053baf43dbb2177ddf446f4255",
       "version_major": 2,
       "version_minor": 0
      },
      "text/plain": [
       "Renderer(camera=PerspectiveCamera(children=(DirectionalLight(color='white', intensity=0.6, position=(0.0001610…"
      ]
     },
     "metadata": {},
     "output_type": "display_data"
    },
    {
     "data": {
      "application/vnd.jupyter.widget-view+json": {
       "model_id": "1a2b4db4131442e48d33bcdba39c25db",
       "version_major": 2,
       "version_minor": 0
      },
      "text/plain": [
       "interactive(children=(SelectMultiple(description='s', options=(0, 1, 2, 3), value=()), FloatSlider(value=0.0, …"
      ]
     },
     "metadata": {},
     "output_type": "display_data"
    },
    {
     "data": {
      "text/plain": [
       "<function __main__.pos_f(s, x, y, z, w, α, β, γ)>"
      ]
     },
     "execution_count": 28,
     "metadata": {},
     "output_type": "execute_result"
    }
   ],
   "source": [
    "\n",
    "## Widget UI\n",
    "\n",
    "p = mp.plot(V, F)\n",
    "# p = mp.plot(v,f)\n",
    "# p.add_points(VE)\n",
    "p.add_edges(C,BE, shading={\"line_color\": \"green\"});\n",
    "iw.interact(pos_f,\n",
    "            **widgets_wrapper())"
   ]
  },
  {
   "cell_type": "code",
   "execution_count": 33,
   "id": "dfe1eb1d-2787-4bcb-b5f3-ba91029afe70",
   "metadata": {},
   "outputs": [
    {
     "data": {
      "application/vnd.jupyter.widget-view+json": {
       "model_id": "00c0f0c33a834a67b9b2b30276c01f15",
       "version_major": 2,
       "version_minor": 0
      },
      "text/plain": [
       "Renderer(camera=PerspectiveCamera(children=(DirectionalLight(color='white', intensity=0.6, position=(0.0001610…"
      ]
     },
     "metadata": {},
     "output_type": "display_data"
    }
   ],
   "source": [
    "hand_full_rotation = {'s' : [0,1,2,3], 'x': 0, 'y' : 0, 'z' : 0, 'w' : 1, 'α' : 0, 'β' : 0, 'γ' : 0}\n",
    "pos_f(**hand_full_rotation)\n",
    "v_deformed = pos_f.deformer(OCoR)\n",
    "\n",
    "vT = np.array(pos_f_saver[:, :3])\n",
    "vQ = np.array(pos_f_saver[:, [4,5,6,3]], order='C')\n",
    "U = igl.dqs(V,W, vQ, vT)\n",
    "\n",
    "shft = np.zeros(V.shape)\n",
    "shft[:,1] = -.5\n",
    "\n",
    "p1 = mp.plot(V,F)\n",
    "p1.add_mesh(v_deformed + shft, F)\n",
    "p1.add_mesh(U+2*shft, F)\n",
    "reset()"
   ]
  },
  {
   "cell_type": "markdown",
   "id": "dbf111ce-3d06-4a37-ae21-0f15bcb09d01",
   "metadata": {},
   "source": [
    "# Cool illustrations"
   ]
  },
  {
   "cell_type": "code",
   "execution_count": 30,
   "id": "c9bbf24d-2d63-47d8-bd1c-330c02a40518",
   "metadata": {},
   "outputs": [],
   "source": [
    "def reset():\n",
    "    hand_full_rotation = {'s' : [0,1,2,3], 'x': 0, 'y' : 0, 'z' : 0, 'w' : 1, 'α' : 0, 'β' : 0, 'γ' : 0}\n",
    "    pos_f(**hand_full_rotation)"
   ]
  },
  {
   "cell_type": "code",
   "execution_count": 31,
   "id": "81350e18-a8dd-4c73-a297-7c88a85e4d94",
   "metadata": {},
   "outputs": [],
   "source": [
    "reset()"
   ]
  },
  {
   "cell_type": "code",
   "execution_count": 33,
   "id": "84587f0c",
   "metadata": {},
   "outputs": [
    {
     "data": {
      "application/vnd.jupyter.widget-view+json": {
       "model_id": "00c0f0c33a834a67b9b2b30276c01f15",
       "version_major": 2,
       "version_minor": 0
      },
      "text/plain": [
       "Renderer(camera=PerspectiveCamera(children=(DirectionalLight(color='white', intensity=0.6, position=(0.0001610…"
      ]
     },
     "metadata": {},
     "output_type": "display_data"
    }
   ],
   "source": [
    "hand_full_rotation = {'s' : [0,1,2,3], 'x': 0, 'y' : 0, 'z' : 0, 'w' : 1, 'α' : 0, 'β' : 0, 'γ' : 0}\n",
    "pos_f(**hand_full_rotation)\n",
    "v_deformed = pos_f.deformer(OCoR)\n",
    "\n",
    "vT = np.array(pos_f_saver[:, :3])\n",
    "vQ = np.array(pos_f_saver[:, [4,5,6,3]], order='C')\n",
    "U = igl.dqs(V,W, vQ, vT)\n",
    "\n",
    "shft = np.zeros(V.shape)\n",
    "shft[:,1] = -.5\n",
    "\n",
    "p1 = mp.plot(V,F)\n",
    "p1.add_mesh(v_deformed + shft, F)\n",
    "p1.add_mesh(U+2*shft, F)\n",
    "reset()"
   ]
  },
  {
   "cell_type": "code",
   "execution_count": null,
   "id": "41cc2402-358f-4171-a6e1-15a99f34754a",
   "metadata": {},
   "outputs": [],
   "source": []
  },
  {
   "cell_type": "code",
   "execution_count": 34,
   "id": "05cff477-c08a-4c67-9726-9b59bef7737b",
   "metadata": {},
   "outputs": [
    {
     "data": {
      "application/vnd.jupyter.widget-view+json": {
       "model_id": "412474841bb74e4cbd863e4222277652",
       "version_major": 2,
       "version_minor": 0
      },
      "text/plain": [
       "Renderer(camera=PerspectiveCamera(children=(DirectionalLight(color='white', intensity=0.6, position=(0.0001610…"
      ]
     },
     "metadata": {},
     "output_type": "display_data"
    }
   ],
   "source": [
    "hand_full_rotation = {'s' : [0,1,2,3], 'x': 0, 'y' : 0, 'z' : 0, 'w' : 0, 'α' : 0, 'β' : 0, 'γ' : -1}\n",
    "pos_f(**hand_full_rotation)\n",
    "v_deformed = pos_f.deformer(OCoR)\n",
    "\n",
    "vT = np.array(pos_f_saver[:, :3])\n",
    "vQ = np.array(pos_f_saver[:, [4,5,6,3]], order='C')\n",
    "U = igl.dqs(V,W, vQ, vT)\n",
    "\n",
    "shft = np.zeros(V.shape)\n",
    "shft[:,1] = -.5\n",
    "\n",
    "p1 = mp.plot(V,F)\n",
    "p1.add_mesh(v_deformed + shft, F)\n",
    "p1.add_mesh(U+2*shft, F)\n",
    "reset()"
   ]
  },
  {
   "cell_type": "code",
   "execution_count": null,
   "id": "df1a7af3-a229-4d3d-8104-01d5416305bb",
   "metadata": {},
   "outputs": [],
   "source": []
  },
  {
   "cell_type": "code",
   "execution_count": 35,
   "id": "2889dbf9-3802-4ce8-be46-7d8a039ff55f",
   "metadata": {},
   "outputs": [
    {
     "data": {
      "application/vnd.jupyter.widget-view+json": {
       "model_id": "997ac9a58cf6459eaad1fb625590f881",
       "version_major": 2,
       "version_minor": 0
      },
      "text/plain": [
       "Renderer(camera=PerspectiveCamera(children=(DirectionalLight(color='white', intensity=0.6, position=(0.0001610…"
      ]
     },
     "metadata": {},
     "output_type": "display_data"
    }
   ],
   "source": [
    "hand_full_rotation = {'s' : [2,3], 'x': -.1, 'y' : 0.2, 'z' : 0.0, 'w' : .5, 'α' : -1, 'β' : -.5, 'γ' : 0}\n",
    "pos_f(**hand_full_rotation)\n",
    "v_deformed = pos_f.deformer(OCoR)\n",
    "\n",
    "vT = np.array(pos_f_saver[:, :3])\n",
    "vQ = np.array(pos_f_saver[:, [4,5,6,3]], order='C')\n",
    "U = igl.dqs(V,W, vQ, vT)\n",
    "\n",
    "shft = np.zeros(V.shape)\n",
    "shft[:,1] = -.5\n",
    "\n",
    "p1 = mp.plot(V,F)\n",
    "p1.add_mesh(v_deformed + shft, F)\n",
    "p1.add_mesh(U+2*shft, F)\n",
    "reset()"
   ]
  },
  {
   "cell_type": "code",
   "execution_count": 36,
   "id": "1b3c1169-b063-49f0-a9cd-4c93c3e35173",
   "metadata": {},
   "outputs": [
    {
     "data": {
      "application/vnd.jupyter.widget-view+json": {
       "model_id": "4b0ca9f7eef947be9b070428dcbedbb7",
       "version_major": 2,
       "version_minor": 0
      },
      "text/plain": [
       "Renderer(camera=PerspectiveCamera(children=(DirectionalLight(color='white', intensity=0.6, position=(0.0001610…"
      ]
     },
     "metadata": {},
     "output_type": "display_data"
    }
   ],
   "source": [
    "hand_full_rotation = {'s' : [3], 'x': 0, 'y' : 0, 'z' : 0, 'w' : -2, 'α' : 1, 'β' : 0, 'γ' : 0}\n",
    "pos_f(**hand_full_rotation)\n",
    "v_deformed = pos_f.deformer(OCoR)\n",
    "\n",
    "vT = np.array(pos_f_saver[:, :3])\n",
    "vQ = np.array(pos_f_saver[:, [4,5,6,3]], order='C')\n",
    "U = igl.dqs(V,W, vQ, vT)\n",
    "\n",
    "shft = np.zeros(V.shape)\n",
    "shft[:,1] = -.5\n",
    "\n",
    "p1 = mp.plot(V,F)\n",
    "p1.add_mesh(v_deformed + shft, F)\n",
    "p1.add_mesh(U+2*shft, F)\n",
    "reset()"
   ]
  },
  {
   "cell_type": "code",
   "execution_count": null,
   "id": "91814487-1272-4b35-bf15-e132b85db6e2",
   "metadata": {},
   "outputs": [],
   "source": []
  },
  {
   "cell_type": "code",
   "execution_count": null,
   "id": "e7a44cca-91b6-45e8-a767-995bd896f05c",
   "metadata": {},
   "outputs": [],
   "source": []
  },
  {
   "cell_type": "code",
   "execution_count": null,
   "id": "c8b9e490-f2ff-4072-a864-f307d0899387",
   "metadata": {},
   "outputs": [],
   "source": []
  },
  {
   "cell_type": "code",
   "execution_count": null,
   "id": "9a69fae3-f3e7-4afd-99bd-b49215a622a6",
   "metadata": {},
   "outputs": [],
   "source": []
  },
  {
   "cell_type": "code",
   "execution_count": null,
   "id": "76235ff5-942a-4aff-9adb-75ba6a09e4d7",
   "metadata": {},
   "outputs": [],
   "source": []
  },
  {
   "cell_type": "code",
   "execution_count": null,
   "id": "c8f5c006-f6ae-4045-8744-accce14f7094",
   "metadata": {},
   "outputs": [],
   "source": [
    "\n"
   ]
  },
  {
   "cell_type": "code",
   "execution_count": null,
   "id": "9bf224e2-554f-4386-8b1e-956aec7af64b",
   "metadata": {},
   "outputs": [],
   "source": []
  },
  {
   "cell_type": "code",
   "execution_count": null,
   "id": "dd2117a6-199b-44d7-91eb-f085b2d4e178",
   "metadata": {},
   "outputs": [],
   "source": []
  },
  {
   "cell_type": "code",
   "execution_count": null,
   "id": "d24eaf5d-33fa-406d-8b90-66dd4b0a24c6",
   "metadata": {},
   "outputs": [],
   "source": []
  },
  {
   "cell_type": "code",
   "execution_count": null,
   "id": "4fd29d79-9dcb-4991-89c0-7da14d8a19c6",
   "metadata": {},
   "outputs": [],
   "source": []
  },
  {
   "cell_type": "code",
   "execution_count": null,
   "id": "cff8e2c0-db34-4ab0-ab87-6bb9c5441905",
   "metadata": {},
   "outputs": [],
   "source": []
  },
  {
   "cell_type": "code",
   "execution_count": null,
   "id": "c0fa2681-21b2-4899-8fe4-326a2194c647",
   "metadata": {},
   "outputs": [],
   "source": []
  },
  {
   "cell_type": "code",
   "execution_count": null,
   "id": "83bac6ec-7b91-4fd0-b7f1-33d82da11587",
   "metadata": {},
   "outputs": [],
   "source": []
  },
  {
   "cell_type": "code",
   "execution_count": null,
   "id": "361815f8-76fc-465a-aafd-9f141b9bfaba",
   "metadata": {},
   "outputs": [],
   "source": []
  },
  {
   "cell_type": "code",
   "execution_count": null,
   "id": "747ea418-2d80-422b-b43d-1124530fe34e",
   "metadata": {},
   "outputs": [],
   "source": []
  },
  {
   "cell_type": "code",
   "execution_count": null,
   "id": "7625be0d-e0e4-4524-8e7f-f38aa92117dd",
   "metadata": {},
   "outputs": [],
   "source": []
  },
  {
   "cell_type": "code",
   "execution_count": null,
   "id": "ada8c443-400b-494b-a885-989478832d7e",
   "metadata": {},
   "outputs": [],
   "source": []
  },
  {
   "cell_type": "code",
   "execution_count": null,
   "id": "10c6efa1-3aea-463e-b044-b9df6f2c1d6c",
   "metadata": {},
   "outputs": [],
   "source": []
  },
  {
   "cell_type": "code",
   "execution_count": null,
   "id": "26b04f1e-0186-45b4-aed3-ed96a1504d90",
   "metadata": {},
   "outputs": [],
   "source": []
  },
  {
   "cell_type": "code",
   "execution_count": null,
   "id": "6cc8d148-b6e0-4afe-a8c5-c63e4738e894",
   "metadata": {},
   "outputs": [],
   "source": []
  },
  {
   "cell_type": "code",
   "execution_count": null,
   "id": "388b1add-f4ac-489f-ba61-fd92a279446c",
   "metadata": {},
   "outputs": [],
   "source": []
  },
  {
   "cell_type": "code",
   "execution_count": null,
   "id": "aefae420-cd47-4422-8674-a5a42382d87f",
   "metadata": {},
   "outputs": [],
   "source": []
  },
  {
   "cell_type": "code",
   "execution_count": null,
   "id": "73b43ecb-5e11-497d-94d3-ac0b73855dbc",
   "metadata": {},
   "outputs": [],
   "source": []
  },
  {
   "cell_type": "code",
   "execution_count": null,
   "id": "3680dbcc-f8be-4951-bc95-948cfb434033",
   "metadata": {},
   "outputs": [],
   "source": []
  },
  {
   "cell_type": "code",
   "execution_count": null,
   "id": "440d5965-d288-436a-a219-fef15db08a11",
   "metadata": {},
   "outputs": [],
   "source": []
  },
  {
   "cell_type": "code",
   "execution_count": null,
   "id": "f63bfe0d-3e03-4bd2-89ee-5757aba733c7",
   "metadata": {},
   "outputs": [],
   "source": []
  },
  {
   "cell_type": "code",
   "execution_count": null,
   "id": "25fc278a-7e54-4939-85c9-c4abc14d8c0a",
   "metadata": {},
   "outputs": [],
   "source": [
    "###########"
   ]
  },
  {
   "cell_type": "code",
   "execution_count": null,
   "id": "4aa2b26a-d52d-44e1-8dfc-558b9d8cbdd5",
   "metadata": {},
   "outputs": [],
   "source": [
    "# V, F = igl.read_triangle_mesh('data/cloth_ball0.ply')"
   ]
  },
  {
   "cell_type": "code",
   "execution_count": null,
   "id": "e131754d-8149-4a40-a08a-1b3584ce17e4",
   "metadata": {},
   "outputs": [],
   "source": []
  },
  {
   "cell_type": "code",
   "execution_count": null,
   "id": "6ac7cf06-1c90-4602-9e5e-8cd3eac37d11",
   "metadata": {},
   "outputs": [],
   "source": [
    "#get just the flat piece\n",
    "# calculate the bbw (igl.bbw)"
   ]
  },
  {
   "cell_type": "code",
   "execution_count": null,
   "id": "a9bf2820-c66f-4c7f-b7e2-d6ed2e7ff97b",
   "metadata": {},
   "outputs": [],
   "source": [
    "# U,G = V,F"
   ]
  },
  {
   "cell_type": "code",
   "execution_count": null,
   "id": "e8794ab9-c13b-4ff2-bbd4-87431c153610",
   "metadata": {},
   "outputs": [],
   "source": [
    "_, U, G, _, _= igl.decimate(V, F, 5000)"
   ]
  },
  {
   "cell_type": "code",
   "execution_count": null,
   "id": "a05d0542-8a93-4c0e-ad40-f1968040ce0f",
   "metadata": {},
   "outputs": [],
   "source": [
    "# plane_surf_F = G[igl.face_components(G) == 0]"
   ]
  },
  {
   "cell_type": "code",
   "execution_count": null,
   "id": "7755c3f9-c490-4a08-b9ff-ab4e9136b2e8",
   "metadata": {},
   "outputs": [],
   "source": [
    "# plane_surf_V = U[list(set(plane_surf_F.reshape(-1))), :]"
   ]
  },
  {
   "cell_type": "code",
   "execution_count": null,
   "id": "575be488-5219-4d03-97e5-41d791229461",
   "metadata": {},
   "outputs": [],
   "source": [
    "# mp.plot(plane_surf_V, plane_surf_F, shading={\"wireframe\" : True})"
   ]
  },
  {
   "cell_type": "code",
   "execution_count": null,
   "id": "689d3f4b-7fac-462a-a53a-8cc0c250bc32",
   "metadata": {},
   "outputs": [],
   "source": []
  },
  {
   "cell_type": "code",
   "execution_count": null,
   "id": "593068e3-2bfb-4a91-9798-789dfb796683",
   "metadata": {},
   "outputs": [],
   "source": [
    "# lets first set constraints"
   ]
  },
  {
   "cell_type": "code",
   "execution_count": null,
   "id": "1f36ba1a-86cf-4733-926f-b09dae1efcbb",
   "metadata": {},
   "outputs": [],
   "source": [
    "# BV,BF = igl.bounding_box(plane_surf_V, 0)"
   ]
  },
  {
   "cell_type": "code",
   "execution_count": null,
   "id": "2252a96f-7dc9-4187-a6d9-8d1627b86ce2",
   "metadata": {},
   "outputs": [],
   "source": [
    "# mp.plot(BV, BF)"
   ]
  },
  {
   "cell_type": "code",
   "execution_count": null,
   "id": "4745b669-91a7-45ed-96fe-5e4972c5daeb",
   "metadata": {},
   "outputs": [],
   "source": []
  },
  {
   "cell_type": "code",
   "execution_count": null,
   "id": "7b7de910-61d7-4036-a83e-61fc933a6e82",
   "metadata": {},
   "outputs": [],
   "source": [
    "# ctrl_v = []\n",
    "# mn = np.min(plane_surf_V,axis=0)\n",
    "# # X = int((np.max(plane_surf_V,axis=0) - mn)[0])\n",
    "# # Z = int((np.max(plane_surf_V,axis=0) - mn)[2])\n",
    "# # for i in range(0, X+1, int(X /2)):\n",
    "# #     for j in range (0, Z+1, int(Z/2)):\n",
    "# #         ctrl_v.append(mn + [i, 0, j])\n",
    "# for i in range(0, 60, 20):\n",
    "#     for j in range (0, 60, 20):\n",
    "#         ctrl_v.append(mn + [i, 0, j])\n",
    "# ctrl_v = np.array(ctrl_v)"
   ]
  },
  {
   "cell_type": "code",
   "execution_count": null,
   "id": "02bc969b-b70e-4d2c-b670-5cbe1a604721",
   "metadata": {},
   "outputs": [],
   "source": [
    "# l = igl.boundary_loop(plane_surf_F)\n",
    "# l = l[::11]\n",
    "# lv = plane_surf_V[l,:]"
   ]
  },
  {
   "cell_type": "code",
   "execution_count": null,
   "id": "0c331119-2931-4ce7-a8b5-eeb462c77d34",
   "metadata": {},
   "outputs": [],
   "source": []
  },
  {
   "cell_type": "code",
   "execution_count": null,
   "id": "dfd1e6a1-1eb9-487a-bdc2-656ce0f22606",
   "metadata": {},
   "outputs": [],
   "source": [
    "# # bbw_solver = igl.BBW()\n",
    "# # bbw_solver.solve(plane_surf_V, plane_surf_F)\n",
    "# ctr = np.median(V, axis=0)\n",
    "# lv = np.concatenate((lv, [ctr]), axis=0)\n",
    "# C = lv"
   ]
  },
  {
   "cell_type": "code",
   "execution_count": null,
   "id": "a11abcec-b778-4eea-adef-e8fde36b8666",
   "metadata": {},
   "outputs": [],
   "source": [
    "# ok = mp.plot(plane_surf_V,plane_surf_F)\n",
    "# ok.add_points(C, shading={\"point_size\": 4.0})"
   ]
  },
  {
   "cell_type": "code",
   "execution_count": null,
   "id": "fbc18b9d-dcad-4427-af0d-2ddfd3c3f934",
   "metadata": {},
   "outputs": [],
   "source": [
    "# P = np.array(range(C.shape[0]))"
   ]
  },
  {
   "cell_type": "code",
   "execution_count": null,
   "id": "9b9e3e82-2250-4c33-9e1f-78171cc1c7ea",
   "metadata": {},
   "outputs": [],
   "source": [
    "# _, b, bc = igl.boundary_conditions(plane_surf_V,plane_surf_F, C, P , np.empty((0,2),dtype='int64'), np.empty((0,2),dtype='int64'))"
   ]
  },
  {
   "cell_type": "code",
   "execution_count": null,
   "id": "0b40269e-9010-427d-947c-a690ed6136c5",
   "metadata": {},
   "outputs": [],
   "source": []
  },
  {
   "cell_type": "code",
   "execution_count": null,
   "id": "3e7a07ba-f49e-4e3f-b048-5196f1dc4395",
   "metadata": {},
   "outputs": [],
   "source": [
    "# bbw_solver = igl.BBW()\n",
    "# bbw_solver.solve(plane_surf_V, plane_surf_F, b ,bc)"
   ]
  },
  {
   "cell_type": "code",
   "execution_count": null,
   "id": "707ab116-b7f9-4337-a67c-483f8021668c",
   "metadata": {},
   "outputs": [],
   "source": [
    "# np.linalg.norm(plane_surf_V)"
   ]
  },
  {
   "cell_type": "code",
   "execution_count": null,
   "id": "f171e065-d6e6-4699-a46d-7b350f9872f7",
   "metadata": {},
   "outputs": [],
   "source": [
    "\n"
   ]
  },
  {
   "cell_type": "markdown",
   "id": "0d42b876-b1b9-42b0-a7e1-3dd191592676",
   "metadata": {},
   "source": [
    "The skinning weights for the first four models were computed by bounded biharmonic weights with controlled extrema [Jacobson et al. 2012b] and the skinning weights for the cloth model were computed by Maya’s closest distance bind with a dropoff rate of 2.0"
   ]
  },
  {
   "cell_type": "code",
   "execution_count": null,
   "id": "3f49cec8-2edb-4c76-abf7-45feceb38250",
   "metadata": {},
   "outputs": [],
   "source": [
    "# # wj(x0) = d(x0, Hj)^-1\n",
    "# W = np.array([1 / np.linalg.norm(plane_surf_V - ctrl_v[i], axis=1) for i in range(ctrl_v.shape[0])])\n",
    "# W = (W.T / np.linalg.norm(W, axis=0)[:,None])"
   ]
  },
  {
   "cell_type": "code",
   "execution_count": null,
   "id": "e8bea365-6c6a-41b3-8364-caf11cd35549",
   "metadata": {},
   "outputs": [],
   "source": [
    "# W = (np.diag( 1 / np.linalg.norm(W,axis=0)) @ W.T)"
   ]
  },
  {
   "cell_type": "code",
   "execution_count": null,
   "id": "897f1fa2-aa8d-450e-9dca-df7e327cee07",
   "metadata": {},
   "outputs": [],
   "source": []
  },
  {
   "cell_type": "code",
   "execution_count": null,
   "id": "d589f3de-6344-43ed-8f42-6cfa92165e35",
   "metadata": {},
   "outputs": [],
   "source": []
  },
  {
   "cell_type": "code",
   "execution_count": null,
   "id": "0ff57f05-0278-4c4b-8cc2-cce8c8a35f45",
   "metadata": {},
   "outputs": [],
   "source": [
    "# mp.plot(plane_surf_V, plane_surf_F, c = W[:,4])"
   ]
  },
  {
   "cell_type": "code",
   "execution_count": null,
   "id": "3e3911a0-ebe0-4dae-9130-caf036161891",
   "metadata": {},
   "outputs": [],
   "source": []
  },
  {
   "cell_type": "code",
   "execution_count": null,
   "id": "90a1a238-c132-4762-8462-f555f6553fa1",
   "metadata": {
    "tags": []
   },
   "outputs": [],
   "source": [
    "# V = plane_surf_V\n",
    "# F = plane_surf_F\n",
    "\n",
    "# P = np.zeros(V.shape)\n",
    "\n",
    "# with tqdm_joblib(tqdm(desc=\"My calculation\", total=P.shape[0])) as progress_bar:\n",
    "#     P = Parallel(n_jobs=10)(delayed(CoR)(i, W, V, F) for i in range(P.shape[0]))\n",
    "# P = np.array(P)"
   ]
  },
  {
   "cell_type": "code",
   "execution_count": null,
   "id": "82cc2614-ec42-4c31-91e8-c5136547e420",
   "metadata": {},
   "outputs": [],
   "source": []
  },
  {
   "cell_type": "code",
   "execution_count": null,
   "id": "84ae06d7-985d-47e1-aa92-12aa1b66888d",
   "metadata": {},
   "outputs": [],
   "source": [
    "# pickle.dump(P, open('data/CoR_cloth_ball.p', 'wb'))"
   ]
  },
  {
   "cell_type": "code",
   "execution_count": null,
   "id": "569610dd-4bdd-4e28-8d93-87f4d603964a",
   "metadata": {},
   "outputs": [],
   "source": [
    "# ok = mp.plot(V,F)\n",
    "# ok.add_points(P, shading={\"point_size\": 1.0, 'coloring' : 'green'})"
   ]
  },
  {
   "cell_type": "code",
   "execution_count": null,
   "id": "f10ac4b4-f94d-4fb5-ad40-6b3263e614bb",
   "metadata": {},
   "outputs": [],
   "source": []
  },
  {
   "cell_type": "code",
   "execution_count": null,
   "id": "d66ecf5f-203c-4412-925e-b9f09a9727e5",
   "metadata": {},
   "outputs": [],
   "source": []
  },
  {
   "cell_type": "code",
   "execution_count": null,
   "id": "0b12ee0a-8f78-4e53-b2b3-ffb2d6c39467",
   "metadata": {},
   "outputs": [],
   "source": []
  }
 ],
 "metadata": {
  "kernelspec": {
   "display_name": "myEnv",
   "language": "python",
   "name": "myenv"
  },
  "language_info": {
   "codemirror_mode": {
    "name": "ipython",
    "version": 3
   },
   "file_extension": ".py",
   "mimetype": "text/x-python",
   "name": "python",
   "nbconvert_exporter": "python",
   "pygments_lexer": "ipython3",
   "version": "3.9.5"
  }
 },
 "nbformat": 4,
 "nbformat_minor": 5
}
