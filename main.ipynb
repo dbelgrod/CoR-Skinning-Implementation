{
 "cells": [
  {
   "cell_type": "code",
   "execution_count": 1,
   "id": "2ed3d274-a4ce-4a5b-9653-3a2ea03e5888",
   "metadata": {},
   "outputs": [
    {
     "data": {
      "text/plain": [
       "'/Users/davidbelgrod/Repos/libigl-python-bindings/igl/__init__.py'"
      ]
     },
     "execution_count": 1,
     "metadata": {},
     "output_type": "execute_result"
    }
   ],
   "source": [
    "import igl\n",
    "igl.__file__"
   ]
  },
  {
   "cell_type": "code",
   "execution_count": 2,
   "id": "5271ce69-9b37-4c7a-9a2e-fefe9eb413e9",
   "metadata": {},
   "outputs": [],
   "source": [
    "#https://github.com/libigl/libigl-tutorial-data"
   ]
  },
  {
   "cell_type": "code",
   "execution_count": 3,
   "id": "0810c0aa-df73-485b-8b2c-c096335214e5",
   "metadata": {
    "tags": []
   },
   "outputs": [],
   "source": [
    "import numpy as np\n",
    "import igl\n",
    "import meshplot as mp\n",
    "from scipy.spatial.transform import Rotation\n",
    "import ipywidgets as iw\n",
    "import time\n",
    "from math import exp\n",
    "import quaternion\n",
    "import pickle\n",
    "\n",
    "from joblib import Parallel, delayed\n",
    "import contextlib\n",
    "import joblib\n",
    "from tqdm import tqdm\n",
    "\n",
    "@contextlib.contextmanager\n",
    "def tqdm_joblib(tqdm_object):\n",
    "    \"\"\"Context manager to patch joblib to report into tqdm progress bar given as argument\"\"\"\n",
    "    class TqdmBatchCompletionCallback(joblib.parallel.BatchCompletionCallBack):\n",
    "        def __call__(self, *args, **kwargs):\n",
    "            tqdm_object.update(n=self.batch_size)\n",
    "            return super().__call__(*args, **kwargs)\n",
    "\n",
    "    old_batch_callback = joblib.parallel.BatchCompletionCallBack\n",
    "    joblib.parallel.BatchCompletionCallBack = TqdmBatchCompletionCallback\n",
    "    try:\n",
    "        yield tqdm_object\n",
    "    finally:\n",
    "        joblib.parallel.BatchCompletionCallBack = old_batch_callback\n",
    "        tqdm_object.close()"
   ]
  },
  {
   "cell_type": "code",
   "execution_count": null,
   "id": "6840699f-a6d4-44b2-a53a-8dcf4c92d530",
   "metadata": {},
   "outputs": [],
   "source": []
  },
  {
   "cell_type": "code",
   "execution_count": 4,
   "id": "430c8747-1838-4529-824a-94932ade1402",
   "metadata": {},
   "outputs": [],
   "source": [
    "V, F = igl.read_triangle_mesh('data/arm.obj')\n",
    "C,BE,_,_,_,_ = igl.read_tgf('data/arm.tgf')\n",
    "W = igl.read_dmat('data/arm-weights.dmat')\n",
    "# labels = np.load('data/hand.label.npy').astype(int)\n",
    "# v -= v.min(axis=0)\n",
    "# v /= v.max()\n",
    "# mp.plot(V,F)"
   ]
  },
  {
   "cell_type": "code",
   "execution_count": 5,
   "id": "84eb62e3-8d92-485b-860c-ca537012c6dc",
   "metadata": {},
   "outputs": [
    {
     "data": {
      "text/plain": [
       "array([[ 352,  350,  349],\n",
       "       [ 352,  349,    0],\n",
       "       [ 349,  351,    0],\n",
       "       ...,\n",
       "       [7961, 8258, 7785],\n",
       "       [8004, 8071, 7751],\n",
       "       [7648, 8175, 8137]], dtype=int64)"
      ]
     },
     "execution_count": 5,
     "metadata": {},
     "output_type": "execute_result"
    }
   ],
   "source": [
    "# V, F = igl.read_triangle_mesh('data/untitled.obj')\n",
    "# mp.plot(V,F)\n",
    "F"
   ]
  },
  {
   "cell_type": "code",
   "execution_count": 6,
   "id": "696227b3-d7df-49c2-8a7c-bc4c47c2a34e",
   "metadata": {},
   "outputs": [],
   "source": [
    "# TV = np.concatenate((V, C))\n",
    "# TE = BE + V.shape[0]"
   ]
  },
  {
   "cell_type": "code",
   "execution_count": 7,
   "id": "f78811fd-0941-41a4-8ac8-9a738d439ef1",
   "metadata": {},
   "outputs": [],
   "source": [
    "# labels = np.concatenate((np.zeros(V.shape[0]), np.array(range(1,C.shape[0]+1)))).astype(int)\n",
    "labels = np.array(range(BE.shape[0])).astype(int)"
   ]
  },
  {
   "cell_type": "code",
   "execution_count": null,
   "id": "c0500a98-ea5b-4e5e-b9a1-8c691beb6eb7",
   "metadata": {},
   "outputs": [],
   "source": []
  },
  {
   "cell_type": "code",
   "execution_count": 8,
   "id": "602c6915-33e1-49c7-98ff-b16df2e00e8e",
   "metadata": {},
   "outputs": [],
   "source": [
    "def circle_sum(q1, q2):\n",
    "    return q1 + q2 if np.dot(quaternion.as_float_array(q1), quaternion.as_float_array(q2)) >= 0 else q1 - q2\n",
    "\n",
    "def apply_weighted_rotation(vertices, wgts, quat, CoR, translation): #vertices, weights, rot (as quat), CoR, translation array \n",
    "    vnew = vertices.copy()\n",
    "    for i in range(vertices.shape[0]):\n",
    "        vi = vertices[i]\n",
    "        wi = wgts[i]\n",
    "        \n",
    "        q = quaternion.as_quat_array([0,0,0,0])\n",
    "        for j in range(BE.shape[0]): # #BE\n",
    "            qj = quat[j]\n",
    "            wij = wi[j]\n",
    "            q = circle_sum(q, wij*qj)\n",
    "\n",
    "        # wqi  = np.sum(qi, axis=0)\n",
    "        q /= np.linalg.norm(quaternion.as_float_array(q))\n",
    "        \n",
    "        R = quaternion.as_rotation_matrix(q)\n",
    "        \n",
    "        Rtilda = np.zeros((3,3))\n",
    "        ttilda = np.zeros((3,1))\n",
    "        \n",
    "        for j in range(BE.shape[0]):\n",
    "            Rj = quaternion.as_rotation_matrix(quat[j]) #3 x 3\n",
    "            tj = translation[j] # 1 x 3\n",
    "            wij = wi[j]\n",
    "            Rtilda += wij*Rj\n",
    "            ttilda += wij*tj.reshape((3,1))\n",
    "            \n",
    "        t = Rtilda @ CoR[i].reshape((3,1)) + ttilda - R @ CoR[i].reshape((3,1))\n",
    "        \n",
    "        vnew[i] = (R @ vi.reshape((3,1)) + t).reshape(3)\n",
    "\n",
    "    return vnew"
   ]
  },
  {
   "cell_type": "code",
   "execution_count": null,
   "id": "053633fa-14d3-4b67-a308-c3de0f1198db",
   "metadata": {},
   "outputs": [],
   "source": []
  },
  {
   "cell_type": "code",
   "execution_count": null,
   "id": "242f4d42-d9af-4c33-9553-6c51e7f396db",
   "metadata": {},
   "outputs": [],
   "source": []
  },
  {
   "cell_type": "code",
   "execution_count": 9,
   "id": "3de20c35-bda1-4fcf-822f-d01d5b8317e7",
   "metadata": {},
   "outputs": [],
   "source": [
    "def similarity(Wp, Wv, sigma=0.1):\n",
    "    #BE shape\n",
    "    Wp = Wp if len(Wp.shape) == 1 else Wp.reshape(-1)\n",
    "    Wv = Wv if len(Wv.shape) == 1 else Wv.reshape(-1)\n",
    "    \n",
    "    tot = 0\n",
    "    for j in range(Wp.shape[0]):\n",
    "        for k in range(j+1, Wv.shape[0]):\n",
    "            tot += Wp[j]*Wp[k]*Wv[j]*Wv[k]*exp( -(Wp[j]*Wv[k] - Wp[k]*Wv[j])**2 / sigma**2)\n",
    "            \n",
    "    return tot\n",
    "\n",
    "def CoR(i, weights, vertices, faces, omega=0.1, pb = None):\n",
    "    \n",
    "    num = np.zeros([1, 3])\n",
    "    denom = np.zeros([1,3])\n",
    "    for t in range(faces.shape[0]):\n",
    "        # cmp = [i for i in range(3) if np.linalg.norm(weights[i] - weights[faces[t,i]]) < omega]\n",
    "        cmp = [0, 1,2]\n",
    "        if not cmp:\n",
    "            continue\n",
    "        s = similarity(weights[i], np.mean([weights[faces[t,c]] for c in cmp], axis = 0))\n",
    "        v = np.mean([vertices[faces[t,c]] for c in cmp], axis = 0)\n",
    "        a = igl.doublearea(vertices, faces[[t]]) / 2 \n",
    "\n",
    "        num += s * v * a\n",
    "        denom += s * a\n",
    "    \n",
    "    pi = num / denom\n",
    "    \n",
    "    if pb:\n",
    "        pb.value = i\n",
    "\n",
    "    return pi"
   ]
  },
  {
   "cell_type": "code",
   "execution_count": 10,
   "id": "b3c93d09-ee05-4686-95ed-9b82a60e2c20",
   "metadata": {
    "tags": []
   },
   "outputs": [],
   "source": [
    "# P = np.zeros(V.shape)\n",
    "# with tqdm_joblib(tqdm(desc=\"My calculation\", total=P.shape[0])) as progress_bar:\n",
    "#     P = np.array(Parallel(n_jobs=10)(delayed(CoR)(i, W, V, F) for i in range(P.shape[0])))"
   ]
  },
  {
   "cell_type": "code",
   "execution_count": null,
   "id": "f1205eb1-ad23-4198-b79b-ad6805afe499",
   "metadata": {},
   "outputs": [],
   "source": []
  },
  {
   "cell_type": "code",
   "execution_count": 11,
   "id": "917e0f38-7654-4700-b69b-1120c79f1003",
   "metadata": {},
   "outputs": [],
   "source": [
    "# pickle.dump(P, open(\"data/CoR.p\", \"wb\"))"
   ]
  },
  {
   "cell_type": "code",
   "execution_count": 12,
   "id": "2f3eae4a-ebdc-4446-8824-6247069cd8f3",
   "metadata": {},
   "outputs": [
    {
     "name": "stderr",
     "output_type": "stream",
     "text": [
      "/Users/davidbelgrod/miniconda3/lib/python3.9/site-packages/jupyter_client/session.py:716: UserWarning: Message serialization failed with:\n",
      "Out of range float values are not JSON compliant\n",
      "Supporting this message is deprecated in jupyter-client 7, please make sure your message is JSON-compliant\n",
      "  content = self.pack(content)\n"
     ]
    },
    {
     "data": {
      "application/vnd.jupyter.widget-view+json": {
       "model_id": "05153715c97a407b954e5dd78b9f4688",
       "version_major": 2,
       "version_minor": 0
      },
      "text/plain": [
       "Renderer(camera=PerspectiveCamera(children=(DirectionalLight(color='white', intensity=0.6, position=(0.0007487…"
      ]
     },
     "metadata": {},
     "output_type": "display_data"
    },
    {
     "data": {
      "text/plain": [
       "<meshplot.Viewer.Viewer at 0x7fa19909a4f0>"
      ]
     },
     "execution_count": 12,
     "metadata": {},
     "output_type": "execute_result"
    }
   ],
   "source": [
    "P = pickle.load(open('data/CoR.p', 'rb'))\n",
    "mp.plot(P)"
   ]
  },
  {
   "cell_type": "code",
   "execution_count": 13,
   "id": "4b369342-2088-42c9-b9d1-7d1de0c751d3",
   "metadata": {},
   "outputs": [],
   "source": [
    "OCoR = V.copy()\n",
    "\n",
    "pos_f_saver = np.zeros((labels.max()+1, 7))\n",
    "\n",
    "def pos_f(s,x,y,z, w, α, β, γ, plt):\n",
    "    global OCoR\n",
    "\n",
    "    clicked_edges = BE[np.isin(labels, s)]\n",
    "    slices = []\n",
    "    for e in clicked_edges:\n",
    "        for v in e:\n",
    "            if v not in slices:\n",
    "                slices.append(v)\n",
    "                \n",
    " \n",
    "        \n",
    "    # r = Rotation.from_euler('xyz', [α, β, γ], degrees=True)\n",
    "    r = Rotation.from_quat([α, β, γ, w])\n",
    "    \n",
    "    v_slice = C[slices] + np.array([[x,y,z]])\n",
    "    \n",
    "    C1 = C.copy()\n",
    "    C1[slices] = r.apply(v_slice)\n",
    "    for si in s:\n",
    "        pos_f_saver[si] = [x,y,z,w,α,β,γ]\n",
    "\n",
    "    \n",
    "    q = np.zeros((BE.shape[0], 4))\n",
    "    t = np.zeros((BE.shape[0], 3))\n",
    "    for i in range(BE.shape[0]):\n",
    "        # res =  Qt0[i].inverse() * Qt1[i] \n",
    "        # diff[i,:] = [res.w, res.x, res.y, res.z]\n",
    "        xi,yi,zi,wi,αi,βi,γi = pos_f_saver[i]\n",
    "        q[i,:] = [wi,αi,βi,γi]\n",
    "        t[i,:] = [xi, yi, zi]\n",
    "    \n",
    "    # q /= np.linalg.norm(q, axis=1)\n",
    "    Q = quaternion.as_quat_array(q)\n",
    "    \n",
    "    OCoR = V.copy()\n",
    "    OCoR = apply_weighted_rotation(V, W, Q, P, t)\n",
    "    \n",
    "\n",
    "    v_deformed = pos_f.deformer(OCoR)\n",
    "    plt.update_object(vertices = v_deformed)\n",
    "    # p.remove_object(max(p._Viewer__objects.keys()))\n",
    "    # p.add_edges(C1+np.repeat([[0,.25,0]], C1.shape[0], axis=0), BE, shading={\"line_color\": \"green\"})\n",
    "  \n",
    "pos_f.deformer = lambda x:x"
   ]
  },
  {
   "cell_type": "code",
   "execution_count": 14,
   "id": "502667d8-c06a-4472-a3c7-697574918e4d",
   "metadata": {},
   "outputs": [],
   "source": [
    "def widgets_wrapper():\n",
    "    # segment_widget = iw.Dropdown(options=np.arange(labels.max()) + 1)\n",
    "    segment_widget = iw.SelectMultiple(options=np.arange(labels.max()+1))\n",
    "    translate_widget = {i:iw.FloatSlider(min=-1, max=1, value=0) \n",
    "                        for i in 'xyz'}\n",
    "    # rotate_widget = {a:iw.FloatSlider(min=-90, max=90, value=0, step=1) \n",
    "    #                  for a in 'αβγ'}\n",
    "    real_widget = {a:iw.FloatSlider(min=-2, max=2, value=1, step=.25) \n",
    "                     for a in 'w'}\n",
    "    imag_widget = {a:iw.FloatSlider(min=-1, max=1, value=0, step=.1) \n",
    "                     for a in 'αβγ'}\n",
    "\n",
    "    def update_seg(*args):\n",
    "        (translate_widget['x'].value,translate_widget['y'].value,\n",
    "        translate_widget['z'].value, real_widget['w'].value,\n",
    "        imag_widget['α'].value,imag_widget['β'].value,\n",
    "        imag_widget['γ'].value) = pos_f_saver[segment_widget.value]\n",
    "    segment_widget.observe(update_seg, 'value')\n",
    "    widgets_dict = dict(s=segment_widget)\n",
    "    widgets_dict.update(translate_widget)\n",
    "    widgets_dict.update(real_widget)\n",
    "    widgets_dict.update(imag_widget)\n",
    "    return widgets_dict"
   ]
  },
  {
   "cell_type": "code",
   "execution_count": 15,
   "id": "2ced7bef-b2c6-4e01-941f-185174399a50",
   "metadata": {},
   "outputs": [
    {
     "data": {
      "text/plain": [
       "' (Optional) Register this function to perform interactive deformation\\npos_f.deformer = position_deformer\\n'"
      ]
     },
     "execution_count": 15,
     "metadata": {},
     "output_type": "execute_result"
    }
   ],
   "source": [
    "def position_deformer(target_pos):\n",
    "    '''Fill in this function to change positions'''\n",
    "    return target_pos\n",
    "''' (Optional) Register this function to perform interactive deformation\n",
    "pos_f.deformer = position_deformer\n",
    "'''"
   ]
  },
  {
   "cell_type": "code",
   "execution_count": 16,
   "id": "e06983f3-c1d9-4ee0-b1b2-6638ad342c01",
   "metadata": {},
   "outputs": [
    {
     "data": {
      "application/vnd.jupyter.widget-view+json": {
       "model_id": "e8e5f83e6e9e4e78a209f1fc8c3d9b2f",
       "version_major": 2,
       "version_minor": 0
      },
      "text/plain": [
       "Renderer(camera=PerspectiveCamera(children=(DirectionalLight(color='white', intensity=0.6, position=(0.0001610…"
      ]
     },
     "metadata": {},
     "output_type": "display_data"
    },
    {
     "data": {
      "application/vnd.jupyter.widget-view+json": {
       "model_id": "40c72b4a73254867b297c8bbcff27580",
       "version_major": 2,
       "version_minor": 0
      },
      "text/plain": [
       "interactive(children=(SelectMultiple(description='s', options=(0, 1, 2, 3), value=()), FloatSlider(value=0.0, …"
      ]
     },
     "metadata": {},
     "output_type": "display_data"
    },
    {
     "data": {
      "text/plain": [
       "<function __main__.pos_f(s, x, y, z, w, α, β, γ, plt)>"
      ]
     },
     "execution_count": 16,
     "metadata": {},
     "output_type": "execute_result"
    }
   ],
   "source": [
    "\n",
    "## Widget UI\n",
    "\n",
    "p = mp.plot(V, F)\n",
    "# p.add_edges(C,BE, shading={\"line_color\": \"green\"});\n",
    "iw.interact(pos_f,\n",
    "            **widgets_wrapper(), plt=iw.fixed(p))"
   ]
  },
  {
   "cell_type": "code",
   "execution_count": 17,
   "id": "c4224439-f697-4d89-86d8-768f5939091c",
   "metadata": {},
   "outputs": [],
   "source": [
    "# deform(hand_full_rotation | {'x': .2}, p1)\n",
    "\n",
    "def reset(plot):\n",
    "    hand_full_rotation = {'s' : [0,1,2,3], 'x': 0, 'y' : 0, 'z' : 0, 'w' : 1, 'α' : 0, 'β' : 0, 'γ' : 0}\n",
    "    pos_f(**hand_full_rotation, plt=plot)"
   ]
  },
  {
   "cell_type": "code",
   "execution_count": 18,
   "id": "dfe1eb1d-2787-4bcb-b5f3-ba91029afe70",
   "metadata": {},
   "outputs": [
    {
     "data": {
      "application/vnd.jupyter.widget-view+json": {
       "model_id": "73fd336c6ac842c4bfeee9715d4e1acc",
       "version_major": 2,
       "version_minor": 0
      },
      "text/plain": [
       "Renderer(camera=PerspectiveCamera(children=(DirectionalLight(color='white', intensity=0.6, position=(0.0001610…"
      ]
     },
     "metadata": {},
     "output_type": "display_data"
    }
   ],
   "source": [
    "p1 = mp.plot(V,F)\n",
    "hand_full_rotation = {'s' : [0,1,2,3], 'x': 0, 'y' : 0, 'z' : 0, 'w' : 1, 'α' : 0, 'β' : 0, 'γ' : 0, 'plt' : p1}\n",
    "pos_f(**hand_full_rotation)\n",
    "v_deformed = pos_f.deformer(OCoR)\n",
    "\n",
    "vT = np.array(pos_f_saver[:, :3])\n",
    "vQ = np.array(pos_f_saver[:, [4,5,6,3]], order='C')\n",
    "U = igl.dqs(V,W, vQ, vT)\n",
    "\n",
    "shft = np.zeros(V.shape)\n",
    "shft[:,1] = -.5\n",
    "\n",
    "\n",
    "p1.add_mesh(v_deformed + shft, F)\n",
    "p1.add_mesh(U+2*shft, F)\n",
    "reset(p1)"
   ]
  },
  {
   "cell_type": "markdown",
   "id": "dbf111ce-3d06-4a37-ae21-0f15bcb09d01",
   "metadata": {},
   "source": [
    "# Cool illustrations"
   ]
  },
  {
   "cell_type": "code",
   "execution_count": null,
   "id": "c9bbf24d-2d63-47d8-bd1c-330c02a40518",
   "metadata": {},
   "outputs": [],
   "source": []
  },
  {
   "cell_type": "code",
   "execution_count": null,
   "id": "81350e18-a8dd-4c73-a297-7c88a85e4d94",
   "metadata": {},
   "outputs": [],
   "source": []
  },
  {
   "cell_type": "code",
   "execution_count": 19,
   "id": "84587f0c",
   "metadata": {},
   "outputs": [
    {
     "data": {
      "application/vnd.jupyter.widget-view+json": {
       "model_id": "8f1d95fa226b4c9d9f6bff3dc8601c99",
       "version_major": 2,
       "version_minor": 0
      },
      "text/plain": [
       "Renderer(camera=PerspectiveCamera(children=(DirectionalLight(color='white', intensity=0.6, position=(0.0001610…"
      ]
     },
     "metadata": {},
     "output_type": "display_data"
    },
    {
     "data": {
      "text/plain": [
       "2"
      ]
     },
     "execution_count": 19,
     "metadata": {},
     "output_type": "execute_result"
    }
   ],
   "source": [
    "p1 = mp.plot(V,F)\n",
    "reset(p1)\n",
    "hand_full_rotation = {'s' : [0,1,2,3], 'x': 0, 'y' : 0, 'z' : 0, 'w' : 1, 'α' : 0, 'β' : 0, 'γ' : 0, 'plt' : p1}\n",
    "pos_f(**hand_full_rotation)\n",
    "v_deformed = pos_f.deformer(OCoR)\n",
    "\n",
    "vT = np.array(pos_f_saver[:, :3])\n",
    "vQ = np.array(pos_f_saver[:, [4,5,6,3]], order='C')\n",
    "U = igl.dqs(V,W, vQ, vT)\n",
    "\n",
    "shft = np.zeros(V.shape)\n",
    "shft[:,1] = -.5\n",
    "\n",
    "\n",
    "p1.add_mesh(v_deformed + shft, F)\n",
    "p1.add_mesh(U+2*shft, F)\n"
   ]
  },
  {
   "cell_type": "code",
   "execution_count": null,
   "id": "41cc2402-358f-4171-a6e1-15a99f34754a",
   "metadata": {},
   "outputs": [],
   "source": []
  },
  {
   "cell_type": "code",
   "execution_count": 20,
   "id": "05cff477-c08a-4c67-9726-9b59bef7737b",
   "metadata": {},
   "outputs": [
    {
     "data": {
      "application/vnd.jupyter.widget-view+json": {
       "model_id": "bb224241f9684f149dc857662e69f934",
       "version_major": 2,
       "version_minor": 0
      },
      "text/plain": [
       "Renderer(camera=PerspectiveCamera(children=(DirectionalLight(color='white', intensity=0.6, position=(0.0001610…"
      ]
     },
     "metadata": {},
     "output_type": "display_data"
    },
    {
     "data": {
      "text/plain": [
       "1"
      ]
     },
     "execution_count": 20,
     "metadata": {},
     "output_type": "execute_result"
    }
   ],
   "source": [
    "p1 = mp.plot(V,F)\n",
    "reset(p1)\n",
    "hand_full_rotation = {'s' : [0,1,2,3], 'x': 0, 'y' : 0, 'z' : 0, 'w' : 0, 'α' : 0, 'β' : 0, 'γ' : -1, 'plt' : p1}\n",
    "pos_f(**hand_full_rotation)\n",
    "v_deformed = pos_f.deformer(OCoR)\n",
    "\n",
    "vT = np.array(pos_f_saver[:, :3])\n",
    "vQ = np.array(pos_f_saver[:, [4,5,6,3]], order='C')\n",
    "U = igl.dqs(V,W, vQ, vT)\n",
    "\n",
    "shft = np.zeros(V.shape)\n",
    "shft[:,1] = -.5\n",
    "\n",
    "\n",
    "# p1.add_mesh(v_deformed + shft, F)\n",
    "p1.add_mesh(U+2*shft, F)\n"
   ]
  },
  {
   "cell_type": "code",
   "execution_count": null,
   "id": "df1a7af3-a229-4d3d-8104-01d5416305bb",
   "metadata": {},
   "outputs": [],
   "source": []
  },
  {
   "cell_type": "code",
   "execution_count": 21,
   "id": "2889dbf9-3802-4ce8-be46-7d8a039ff55f",
   "metadata": {},
   "outputs": [
    {
     "data": {
      "application/vnd.jupyter.widget-view+json": {
       "model_id": "ead8f44943a74792a5ffa77e7d9235bd",
       "version_major": 2,
       "version_minor": 0
      },
      "text/plain": [
       "Renderer(camera=PerspectiveCamera(children=(DirectionalLight(color='white', intensity=0.6, position=(0.0001610…"
      ]
     },
     "metadata": {},
     "output_type": "display_data"
    },
    {
     "data": {
      "text/plain": [
       "1"
      ]
     },
     "execution_count": 21,
     "metadata": {},
     "output_type": "execute_result"
    }
   ],
   "source": [
    "p1 = mp.plot(V,F)\n",
    "reset(p1)\n",
    "\n",
    "hand_full_rotation = {'s' : [2,3], 'x': -.1, 'y' : 0.2, 'z' : 0.0, 'w' : .5, 'α' : -1, 'β' : -.5, 'γ' : 0, 'plt' : p1}\n",
    "pos_f(**hand_full_rotation)\n",
    "v_deformed = pos_f.deformer(OCoR)\n",
    "\n",
    "vT = np.array(pos_f_saver[:, :3])\n",
    "vQ = np.array(pos_f_saver[:, [4,5,6,3]], order='C')\n",
    "U = igl.dqs(V,W, vQ, vT)\n",
    "\n",
    "shft = np.zeros(V.shape)\n",
    "shft[:,1] = -.5\n",
    "\n",
    "\n",
    "# p1.add_mesh(v_deformed + shft, F)\n",
    "p1.add_mesh(U+2*shft, F)\n"
   ]
  },
  {
   "cell_type": "code",
   "execution_count": 22,
   "id": "1b3c1169-b063-49f0-a9cd-4c93c3e35173",
   "metadata": {},
   "outputs": [
    {
     "data": {
      "application/vnd.jupyter.widget-view+json": {
       "model_id": "103e7fc6c01a4e3ca8d4e41623a31373",
       "version_major": 2,
       "version_minor": 0
      },
      "text/plain": [
       "Renderer(camera=PerspectiveCamera(children=(DirectionalLight(color='white', intensity=0.6, position=(0.0001610…"
      ]
     },
     "metadata": {},
     "output_type": "display_data"
    },
    {
     "data": {
      "text/plain": [
       "1"
      ]
     },
     "execution_count": 22,
     "metadata": {},
     "output_type": "execute_result"
    }
   ],
   "source": [
    "p1 = mp.plot(V,F, return_plot=True)\n",
    "reset(p1)\n",
    "hand_full_rotation = {'s' : [3], 'x': 0, 'y' : 0, 'z' : 0, 'w' : -2, 'α' : 1, 'β' : 0, 'γ' : 0, 'plt' : p1}\n",
    "pos_f(**hand_full_rotation)\n",
    "v_deformed = pos_f.deformer(OCoR)\n",
    "\n",
    "vT = np.array(pos_f_saver[:, :3])\n",
    "vQ = np.array(pos_f_saver[:, [4,5,6,3]], order='C')\n",
    "U = igl.dqs(V,W, vQ, vT)\n",
    "\n",
    "shft = np.zeros(V.shape)\n",
    "shft[:,1] = -.5\n",
    "\n",
    "\n",
    "# p1.add_mesh(v_deformed + shft, F)\n",
    "p1.add_mesh(U+2*shft, F)\n"
   ]
  },
  {
   "cell_type": "code",
   "execution_count": 23,
   "id": "d32367ae-bc7b-4672-b883-a4a095f69a87",
   "metadata": {},
   "outputs": [],
   "source": [
    "# # p1.remove_object(1)\n",
    "# p1.remove_object(2)"
   ]
  },
  {
   "cell_type": "code",
   "execution_count": 24,
   "id": "91814487-1272-4b35-bf15-e132b85db6e2",
   "metadata": {},
   "outputs": [
    {
     "data": {
      "application/vnd.jupyter.widget-view+json": {
       "model_id": "d39be6db369e4ff0b3ad237428907449",
       "version_major": 2,
       "version_minor": 0
      },
      "text/plain": [
       "HBox(children=(Play(value=0, description='Press play', interval=1000, max=40), IntSlider(value=0)))"
      ]
     },
     "metadata": {},
     "output_type": "display_data"
    }
   ],
   "source": [
    "play = iw.Play(\n",
    "    value=0,\n",
    "    min=0,\n",
    "    max=40,\n",
    "    step=1,\n",
    "    interval=1000,\n",
    "    description=\"Press play\",\n",
    "    disabled=False\n",
    ")\n",
    "slider = iw.IntSlider()\n",
    "iw.jslink((play, 'value'), (slider, 'value'))\n",
    "iw.HBox([play, slider])"
   ]
  },
  {
   "cell_type": "code",
   "execution_count": 25,
   "id": "e7a44cca-91b6-45e8-a767-995bd896f05c",
   "metadata": {},
   "outputs": [
    {
     "data": {
      "application/vnd.jupyter.widget-view+json": {
       "model_id": "c32d49bb9db445a983d06999ea13a59b",
       "version_major": 2,
       "version_minor": 0
      },
      "text/plain": [
       "Renderer(camera=PerspectiveCamera(children=(DirectionalLight(color='white', intensity=0.6, position=(0.0001610…"
      ]
     },
     "metadata": {},
     "output_type": "display_data"
    }
   ],
   "source": [
    "hand_full_rotation = {'s' : [3], 'x': 0, 'y' : 0, 'z' : 0, 'w' : 1, 'α' : 0, 'β' : 0, 'γ' : 0}\n",
    "p = mp.plot(V,F, return_plot=True)\n",
    "\n",
    "def deform(x, hand_rot, plot):\n",
    "    # reset(plot=plot)\n",
    "    \n",
    "    res = hand_rot | {'w': 1-x/10, 'α' : x/10}\n",
    "\n",
    "\n",
    "    pos_f(**res, plt = plot)\n",
    "    v_deformed = pos_f.deformer(OCoR)\n",
    "\n",
    "    vT = np.array(pos_f_saver[:, :3])\n",
    "    vQ = np.array(pos_f_saver[:, [4,5,6,3]], order='C')\n",
    "    U = igl.dqs(V,W, vQ, vT)\n",
    "\n",
    "    shft = np.zeros(V.shape)\n",
    "    shft[:,1] = -.5\n",
    "\n",
    "    # plot = mp.plot(V,F)\n",
    "    # while len(plot._Viewer__objects.keys()) > 1:\n",
    "    #     plot.remove_object(max(plot._Viewer__objects.keys()))\n",
    "    \n",
    "    \n",
    "    \n",
    "    # plot.add_mesh(v_deformed + shft, F)\n",
    "    # plot.add_mesh(U+2*shft, F)\n",
    "    # display(plot._renderer)\n",
    "    plot._Viewer__update_view()\n",
    "    "
   ]
  },
  {
   "cell_type": "code",
   "execution_count": null,
   "id": "c8b9e490-f2ff-4072-a864-f307d0899387",
   "metadata": {},
   "outputs": [],
   "source": []
  },
  {
   "cell_type": "code",
   "execution_count": 26,
   "id": "9a69fae3-f3e7-4afd-99bd-b49215a622a6",
   "metadata": {},
   "outputs": [],
   "source": [
    "play = iw.Play(\n",
    "    value=0,\n",
    "    min=0,\n",
    "    max=40,\n",
    "    step=1,\n",
    "    interval=1000,\n",
    "    description=\"Press play\",\n",
    "    disabled=False\n",
    ")\n",
    "slider = iw.IntSlider()"
   ]
  },
  {
   "cell_type": "code",
   "execution_count": 27,
   "id": "76235ff5-942a-4aff-9adb-75ba6a09e4d7",
   "metadata": {},
   "outputs": [
    {
     "data": {
      "application/vnd.jupyter.widget-view+json": {
       "model_id": "61780f0bb624449f806502f103847bd1",
       "version_major": 2,
       "version_minor": 0
      },
      "text/plain": [
       "Renderer(camera=PerspectiveCamera(children=(DirectionalLight(color='white', intensity=0.6, position=(0.0001610…"
      ]
     },
     "metadata": {},
     "output_type": "display_data"
    },
    {
     "data": {
      "application/vnd.jupyter.widget-view+json": {
       "model_id": "9f0625621afe44d1adea7b175474c3b1",
       "version_major": 2,
       "version_minor": 0
      },
      "text/plain": [
       "interactive(children=(IntSlider(value=0, description='x'), Output()), _dom_classes=('widget-interact',))"
      ]
     },
     "metadata": {},
     "output_type": "display_data"
    },
    {
     "data": {
      "application/vnd.jupyter.widget-view+json": {
       "model_id": "0a19c91f8ba0484aacaaa2d18c5715f7",
       "version_major": 2,
       "version_minor": 0
      },
      "text/plain": [
       "HBox(children=(Play(value=0, description='Press play', interval=1000, max=40), IntSlider(value=0, description=…"
      ]
     },
     "metadata": {},
     "output_type": "display_data"
    }
   ],
   "source": [
    "p = mp.plot(V,F)\n",
    "iw.interact(deform, x = slider, hand_rot=iw.fixed(hand_full_rotation), plot = iw.fixed(p))\n",
    "iw.jslink((play, 'value'), (slider, 'value'))\n",
    "iw.HBox([play, slider])"
   ]
  },
  {
   "cell_type": "code",
   "execution_count": null,
   "id": "c8f5c006-f6ae-4045-8744-accce14f7094",
   "metadata": {},
   "outputs": [],
   "source": []
  },
  {
   "cell_type": "markdown",
   "id": "46240fd1-5e9d-40dc-bab3-bcb65d2c2b35",
   "metadata": {},
   "source": [
    "# Animation part"
   ]
  },
  {
   "cell_type": "code",
   "execution_count": 28,
   "id": "388b1add-f4ac-489f-ba61-fd92a279446c",
   "metadata": {},
   "outputs": [],
   "source": [
    "from pythreejs import *\n",
    "from IPython.display import display\n",
    "from math import pi"
   ]
  },
  {
   "cell_type": "code",
   "execution_count": 29,
   "id": "0922ae23-78ef-46f7-a9ae-05c6d4fc374a",
   "metadata": {},
   "outputs": [
    {
     "data": {
      "text/plain": [
       "<bound method Geometry.from_geometry of <class 'pythreejs.core.Geometry.Geometry'>>"
      ]
     },
     "execution_count": 29,
     "metadata": {},
     "output_type": "execute_result"
    }
   ],
   "source": [
    "Geometry.from_geometry"
   ]
  },
  {
   "cell_type": "code",
   "execution_count": 30,
   "id": "53711d79-54e4-4eb6-bc64-0d9a857b9e30",
   "metadata": {},
   "outputs": [],
   "source": [
    "# https://github.com/jupyter-widgets/pythreejs/blob/master/examples/Examples.ipynb"
   ]
  },
  {
   "cell_type": "code",
   "execution_count": 31,
   "id": "49b2bde5-18ca-423f-b5e9-d13559e76e7c",
   "metadata": {},
   "outputs": [],
   "source": [
    "vertices = [\n",
    "    [0, 0, 0],\n",
    "    [0, 0, 1],\n",
    "    [0, 1, 0],\n",
    "    [0, 1, 1],\n",
    "    [1, 0, 0],\n",
    "    [1, 0, 1],\n",
    "    [1, 1, 0],\n",
    "    [1, 1, 1]\n",
    "]\n",
    "\n",
    "faces = [\n",
    "    [0, 1, 3],\n",
    "    [0, 3, 2],\n",
    "    [0, 2, 4],\n",
    "    [2, 6, 4],\n",
    "    [0, 4, 1],\n",
    "    [1, 4, 5],\n",
    "    [2, 3, 6],\n",
    "    [3, 7, 6],\n",
    "    [1, 5, 3],\n",
    "    [3, 5, 7],\n",
    "    [4, 6, 5],\n",
    "    [5, 6, 7]\n",
    "]\n",
    "\n",
    "vertexcolors = ['#000000', '#0000ff', '#00ff00', '#ff0000',\n",
    "                '#00ffff', '#ff00ff', '#ffff00', '#ffffff']"
   ]
  },
  {
   "cell_type": "code",
   "execution_count": null,
   "id": "fdf3aea6-740a-49b5-9c90-b57124a0a741",
   "metadata": {},
   "outputs": [],
   "source": []
  },
  {
   "cell_type": "code",
   "execution_count": null,
   "id": "96d5fa5b-5f7a-4939-b03c-b6036505c35c",
   "metadata": {},
   "outputs": [],
   "source": []
  },
  {
   "cell_type": "code",
   "execution_count": 32,
   "id": "d28c6ea6-cde6-441c-ba8b-fdc4913bf005",
   "metadata": {},
   "outputs": [],
   "source": [
    "# Map the vertex colors into the 'color' slot of the faces\n",
    "faces = [f + [None, [vertexcolors[i] for i in f], None] for f in faces]\n",
    "\n",
    "# Create the geometry:\n",
    "cubeGeometry = Geometry(vertices=vertices,\n",
    "    faces=faces,\n",
    "    colors=vertexcolors)\n",
    "# Calculate normals per face, for nice crisp edges:\n",
    "cubeGeometry.exec_three_obj_method('computeFaceNormals')\n"
   ]
  },
  {
   "cell_type": "code",
   "execution_count": 33,
   "id": "619e1767-f6dc-4aa0-a5d4-60bf3578e573",
   "metadata": {},
   "outputs": [],
   "source": [
    "# Create a mesh. Note that the material need to be told to use the vertex colors.\n",
    "myobjectCube = Mesh(\n",
    "    geometry=cubeGeometry,\n",
    "    material=MeshLambertMaterial(vertexColors='VertexColors'),\n",
    "    position=[-0.5, -0.5, -0.5],   # Center the cube\n",
    ")"
   ]
  },
  {
   "cell_type": "code",
   "execution_count": 34,
   "id": "34df67ef-5ce9-4c42-9daa-284b3f9493c5",
   "metadata": {},
   "outputs": [
    {
     "data": {
      "application/vnd.jupyter.widget-view+json": {
       "model_id": "996c865f4ae7451da0f757a819b80241",
       "version_major": 2,
       "version_minor": 0
      },
      "text/plain": [
       "Renderer(camera=PerspectiveCamera(children=(DirectionalLight(intensity=0.5, position=(-3.0, 5.0, 1.0), quatern…"
      ]
     },
     "metadata": {},
     "output_type": "display_data"
    }
   ],
   "source": [
    "# Set up a scene and render it:\n",
    "cCube = PerspectiveCamera(position=[3, 3, 3], fov=20,\n",
    "                      children=[DirectionalLight(color='#ffffff', position=[-3, 5, 1], intensity=0.5)])\n",
    "sceneCube = Scene(children=[myobjectCube, cCube, AmbientLight(color='#dddddd')])\n",
    "\n",
    "rendererCube = Renderer(camera=cCube, background='black', background_opacity=1,\n",
    "                        scene=sceneCube, controls=[OrbitControls(controlling=cCube)])\n",
    "\n",
    "display(rendererCube)"
   ]
  },
  {
   "cell_type": "markdown",
   "id": "58a25b29-fa51-4c21-b9c4-7f60b394a9c8",
   "metadata": {},
   "source": [
    "# Animating the CoR"
   ]
  },
  {
   "cell_type": "code",
   "execution_count": 35,
   "id": "fa7dbea6-5759-4288-b361-1f3af374cbf5",
   "metadata": {},
   "outputs": [],
   "source": [
    "# p1 = mp.plot(V,F)\n",
    "# reset(p1)\n",
    "\n",
    "hand_full_rotation = {'s' : [2,3], 'x': -.1, 'y' : 0.2, 'z' : 0.0, 'w' : .5, 'α' : -1, 'β' : -.5, 'γ' : 0, 'plt' : p1}\n",
    "pos_f(**hand_full_rotation)\n",
    "v_deformed = pos_f.deformer(OCoR)\n",
    "\n",
    "vT = np.array(pos_f_saver[:, :3])\n",
    "vQ = np.array(pos_f_saver[:, [4,5,6,3]], order='C')\n",
    "U = igl.dqs(V,W, vQ, vT)\n",
    "\n",
    "shft = np.zeros(V.shape)\n",
    "shft[:,1] = -.5\n",
    "\n",
    "\n",
    "# # p1.add_mesh(v_deformed + shft, F)\n",
    "# p1.add_mesh(U+2*shft, F)"
   ]
  },
  {
   "cell_type": "code",
   "execution_count": 36,
   "id": "1eebe047-9c5a-4ce6-a67f-2cfcda895071",
   "metadata": {},
   "outputs": [],
   "source": [
    "hV = V.astype('float32')\n",
    "hF = F.astype('uint16').ravel()\n",
    "handGeometry = BufferGeometry(attributes=dict(\n",
    "    position=BufferAttribute(hV, normalized=False),\n",
    "    index=BufferAttribute(hF, normalized=False)))"
   ]
  },
  {
   "cell_type": "code",
   "execution_count": 37,
   "id": "9915d6e9-38e2-447d-bac1-bfc6e60796af",
   "metadata": {},
   "outputs": [
    {
     "data": {
      "application/vnd.jupyter.widget-view+json": {
       "model_id": "be1e01701f50421088af050a7f895fdf",
       "version_major": 2,
       "version_minor": 0
      },
      "text/plain": [
       "Preview(child=BufferGeometry(attributes={'position': <BufferAttribute shape=(8311, 3), dtype=float32>, 'index'…"
      ]
     },
     "metadata": {},
     "output_type": "display_data"
    }
   ],
   "source": [
    "display(handGeometry)"
   ]
  },
  {
   "cell_type": "code",
   "execution_count": 38,
   "id": "3d43e90d-85cb-4ae9-8058-d20b99860364",
   "metadata": {},
   "outputs": [],
   "source": [
    "V, F = igl.read_triangle_mesh('data/arm.obj')\n",
    "C,BE,_,_,_,_ = igl.read_tgf('data/arm.tgf')\n",
    "W = igl.read_dmat('data/arm-weights.dmat')\n",
    "labels = np.array(range(BE.shape[0])).astype(int)\n",
    "\n",
    "def apply_ocor(s,x,y,z, w, α, β, γ):\n",
    "    clicked_edges = BE[np.isin(labels, s)]\n",
    "    slices = []\n",
    "    for e in clicked_edges:\n",
    "        for v in e:\n",
    "            if v not in slices:\n",
    "                slices.append(v)\n",
    "                \n",
    "    r = Rotation.from_quat([α, β, γ, w])\n",
    "    \n",
    "    v_slice = C[slices] + np.array([[x,y,z]])\n",
    "    \n",
    "    C1 = C.copy()\n",
    "    C1[slices] = r.apply(v_slice)\n",
    "\n",
    "    q = np.repeat([[w,α, β, γ]], BE.shape[0], axis=0)\n",
    "    t = np.repeat([[x,y,z]], BE.shape[0], axis=0)\n",
    "#     t = np.zeros((BE.shape[0], 3))\n",
    "#     for i in range(BE.shape[0]):\n",
    "       \n",
    "#         xi,yi,zi,wi,αi,βi,γi = pos_f_saver[i]\n",
    "#         q[i,:] = [wi,αi,βi,γi]\n",
    "#         t[i,:] = [xi, yi, zi]\n",
    "    \n",
    "    Q = quaternion.as_quat_array(q)\n",
    "    \n",
    "    OCoR = apply_weighted_rotation(V, W, Q, P, t)\n",
    "    return OCoR"
   ]
  },
  {
   "cell_type": "code",
   "execution_count": 39,
   "id": "8845dc58-d6dc-4af7-8893-d258001bcc16",
   "metadata": {},
   "outputs": [],
   "source": [
    "rotation = {'s' : [2,3], 'x': -.1, 'y' : 0.2, 'z' : 0.0, 'w' : .5, 'α' : -1, 'β' : -.5, 'γ' : 0}\n",
    "nV = apply_ocor(**rotation)"
   ]
  },
  {
   "cell_type": "code",
   "execution_count": 40,
   "id": "81a9a7c9-e006-41cd-9c39-d9dcade667b3",
   "metadata": {},
   "outputs": [],
   "source": [
    "hnV = nV.astype('float32')\n",
    "handGeometry = BufferGeometry(attributes=dict(\n",
    "    position=BufferAttribute(hV, normalized=False),\n",
    "    index=BufferAttribute(hF, normalized=False)),\n",
    "    morphAttributes=dict(\n",
    "        position=[BufferAttribute(hnV, normalized=False)]))"
   ]
  },
  {
   "cell_type": "code",
   "execution_count": 41,
   "id": "f84dbbd8-0157-463f-9058-e0f352a49892",
   "metadata": {},
   "outputs": [
    {
     "data": {
      "application/vnd.jupyter.widget-view+json": {
       "model_id": "19bd7e8a9c554b5ea8dede6fbb219707",
       "version_major": 2,
       "version_minor": 0
      },
      "text/plain": [
       "Preview(child=BufferGeometry(attributes={'position': <BufferAttribute shape=(8311, 3), dtype=float32>, 'index'…"
      ]
     },
     "metadata": {},
     "output_type": "display_data"
    }
   ],
   "source": [
    "display(handGeometry)"
   ]
  },
  {
   "cell_type": "code",
   "execution_count": 42,
   "id": "b74d32c1-d175-4f6a-8b62-b2070062617e",
   "metadata": {},
   "outputs": [],
   "source": [
    "handGeometry.exec_three_obj_method('computeFaceNormals')"
   ]
  },
  {
   "cell_type": "code",
   "execution_count": 43,
   "id": "2f01d3d4-009f-420e-bb33-30c29b9c6778",
   "metadata": {},
   "outputs": [],
   "source": [
    "morphMesh = Mesh(handGeometry, MeshPhongMaterial(\n",
    "    color='#ff3333', shininess=150, morphTargets=True))"
   ]
  },
  {
   "cell_type": "code",
   "execution_count": 44,
   "id": "1a754267-d3ff-4e70-a482-2935cbde74b7",
   "metadata": {},
   "outputs": [],
   "source": [
    "pill_track = NumberKeyframeTrack(\n",
    "    name='.morphTargetInfluences[0]', times=[0, 1.5, 3], values=[0, 2.5, 0])\n",
    "pill_clip = AnimationClip(tracks=[pill_track])\n",
    "pill_action = AnimationAction(AnimationMixer(morphMesh), pill_clip, morphMesh)"
   ]
  },
  {
   "cell_type": "code",
   "execution_count": 45,
   "id": "a8ccdb11-7196-4287-9f3e-067829bdcdde",
   "metadata": {},
   "outputs": [
    {
     "data": {
      "application/vnd.jupyter.widget-view+json": {
       "model_id": "6b358f7c7c9041b0ba478e8cadcf4aaf",
       "version_major": 2,
       "version_minor": 0
      },
      "text/plain": [
       "Renderer(camera=PerspectiveCamera(aspect=1.5, position=(5.0, 3.0, 5.0), projectionMatrix=(1.0, 0.0, 0.0, 0.0, …"
      ]
     },
     "metadata": {},
     "output_type": "display_data"
    },
    {
     "data": {
      "application/vnd.jupyter.widget-view+json": {
       "model_id": "8759a8bec30d45c3aa589db0579f0352",
       "version_major": 2,
       "version_minor": 0
      },
      "text/plain": [
       "AnimationAction(clip=AnimationClip(tracks=(NumberKeyframeTrack(name='.morphTargetInfluences[0]', times=array([…"
      ]
     },
     "metadata": {},
     "output_type": "display_data"
    }
   ],
   "source": [
    "view_width = 600\n",
    "view_height = 400\n",
    "\n",
    "camera3 = PerspectiveCamera( position=[5, 3, 5], aspect=view_width/view_height)\n",
    "scene3 = Scene(children=[morphMesh, camera3,\n",
    "                         DirectionalLight(position=[3, 5, 1], intensity=0.6),\n",
    "                         AmbientLight(intensity=0.5)])\n",
    "renderer3 = Renderer(camera=camera3, scene=scene3,\n",
    "                     controls=[OrbitControls(controlling=camera3)],\n",
    "                     width=view_width, height=view_height)\n",
    "display(renderer3, pill_action)"
   ]
  },
  {
   "cell_type": "code",
   "execution_count": 46,
   "id": "b5d96f28-98a1-46bf-b794-6d4c746d0f3b",
   "metadata": {},
   "outputs": [],
   "source": [
    "# push multiple iterations of the rotation and render through all of them and back"
   ]
  },
  {
   "cell_type": "code",
   "execution_count": null,
   "id": "ada5226a-1359-45f2-a291-5b4ef9dbfe5b",
   "metadata": {},
   "outputs": [],
   "source": []
  }
 ],
 "metadata": {
  "kernelspec": {
   "display_name": "myEnv",
   "language": "python",
   "name": "myenv"
  },
  "language_info": {
   "codemirror_mode": {
    "name": "ipython",
    "version": 3
   },
   "file_extension": ".py",
   "mimetype": "text/x-python",
   "name": "python",
   "nbconvert_exporter": "python",
   "pygments_lexer": "ipython3",
   "version": "3.9.5"
  }
 },
 "nbformat": 4,
 "nbformat_minor": 5
}
