{
 "cells": [
  {
   "cell_type": "code",
   "execution_count": 1,
   "id": "2ed3d274-a4ce-4a5b-9653-3a2ea03e5888",
   "metadata": {},
   "outputs": [],
   "source": [
    "import igl"
   ]
  },
  {
   "cell_type": "code",
   "execution_count": 2,
   "id": "5271ce69-9b37-4c7a-9a2e-fefe9eb413e9",
   "metadata": {},
   "outputs": [],
   "source": [
    "#https://github.com/libigl/libigl-tutorial-data"
   ]
  },
  {
   "cell_type": "code",
   "execution_count": 1,
   "id": "0810c0aa-df73-485b-8b2c-c096335214e5",
   "metadata": {},
   "outputs": [],
   "source": [
    "import numpy as np\n",
    "import igl\n",
    "import meshplot as mp\n",
    "from scipy.spatial.transform import Rotation\n",
    "import ipywidgets as iw\n",
    "import time"
   ]
  },
  {
   "cell_type": "code",
   "execution_count": 22,
   "id": "430c8747-1838-4529-824a-94932ade1402",
   "metadata": {},
   "outputs": [],
   "source": [
    "v, f = igl.read_triangle_mesh('data/arm.obj')\n",
    "VE,EE,_,BE,CE,_ = igl.read_tgf('data/arm.tgf')\n",
    "W = igl.read_dmat('data/arm-weights.dmat')\n",
    "labels = np.load('data/hand.label.npy').astype(int)\n",
    "# v -= v.min(axis=0)\n",
    "# v /= v.max()"
   ]
  },
  {
   "cell_type": "code",
   "execution_count": 106,
   "id": "696227b3-d7df-49c2-8a7c-bc4c47c2a34e",
   "metadata": {},
   "outputs": [],
   "source": [
    "Vb = np.concatenate((v, VE))\n",
    "Eb = EE + v.shape[0]"
   ]
  },
  {
   "cell_type": "code",
   "execution_count": 107,
   "id": "f78811fd-0941-41a4-8ac8-9a738d439ef1",
   "metadata": {},
   "outputs": [],
   "source": [
    "labels = np.concatenate((np.zeros(v.shape[0]), np.array(range(1,VE.shape[0]+1)))).astype(int)"
   ]
  },
  {
   "cell_type": "code",
   "execution_count": 109,
   "id": "4b369342-2088-42c9-b9d1-7d1de0c751d3",
   "metadata": {},
   "outputs": [],
   "source": [
    "handle_vertex_positions = Vb.copy()\n",
    "pos_f_saver = np.zeros((labels.max() + 1, 6))\n",
    "def pos_f(s,x,y,z, α, β, γ):\n",
    "    slices = (labels==s)\n",
    "    r = Rotation.from_euler('xyz', [α, β, γ], degrees=True)\n",
    "    v_slice = Vb[slices] + np.array([[x,y,z]])\n",
    "    # v_slice = v[slices] + np.array([[x,y,z]])\n",
    "    center = v_slice.mean(axis=0)\n",
    "    handle_vertex_positions[slices] = r.apply(v_slice - center) + center\n",
    "    pos_f_saver[s - 1] = [x,y,z,α,β,γ]\n",
    "    t0 = time.time()\n",
    "    v_deformed = pos_f.deformer(handle_vertex_positions)\n",
    "    # p.update_object(vertices = v_deformed)\n",
    "    p.update_object(vertices = v_deformed)\n",
    "    t1 = time.time()\n",
    "    print('FPS', 1/(t1 - t0))\n",
    "pos_f.deformer = lambda x:x"
   ]
  },
  {
   "cell_type": "code",
   "execution_count": 110,
   "id": "502667d8-c06a-4472-a3c7-697574918e4d",
   "metadata": {},
   "outputs": [],
   "source": [
    "def widgets_wrapper():\n",
    "    segment_widget = iw.Dropdown(options=np.arange(labels.max()) + 1)\n",
    "    translate_widget = {i:iw.FloatSlider(min=-1, max=1, value=0) \n",
    "                        for i in 'xyz'}\n",
    "    rotate_widget = {a:iw.FloatSlider(min=-90, max=90, value=0, step=1) \n",
    "                     for a in 'αβγ'}\n",
    "\n",
    "    def update_seg(*args):\n",
    "        (translate_widget['x'].value,translate_widget['y'].value,\n",
    "        translate_widget['z'].value,\n",
    "        rotate_widget['α'].value,rotate_widget['β'].value,\n",
    "        rotate_widget['γ'].value) = pos_f_saver[segment_widget.value]\n",
    "    segment_widget.observe(update_seg, 'value')\n",
    "    widgets_dict = dict(s=segment_widget)\n",
    "    # widgets_dict = dict()\n",
    "    widgets_dict.update(translate_widget)\n",
    "    widgets_dict.update(rotate_widget)\n",
    "    return widgets_dict"
   ]
  },
  {
   "cell_type": "code",
   "execution_count": 111,
   "id": "2ced7bef-b2c6-4e01-941f-185174399a50",
   "metadata": {},
   "outputs": [
    {
     "data": {
      "text/plain": [
       "' (Optional) Register this function to perform interactive deformation\\npos_f.deformer = position_deformer\\n'"
      ]
     },
     "execution_count": 111,
     "metadata": {},
     "output_type": "execute_result"
    }
   ],
   "source": [
    "def position_deformer(target_pos):\n",
    "    '''Fill in this function to change positions'''\n",
    "    return target_pos\n",
    "''' (Optional) Register this function to perform interactive deformation\n",
    "pos_f.deformer = position_deformer\n",
    "'''"
   ]
  },
  {
   "cell_type": "code",
   "execution_count": 115,
   "id": "e06983f3-c1d9-4ee0-b1b2-6638ad342c01",
   "metadata": {},
   "outputs": [
    {
     "data": {
      "application/vnd.jupyter.widget-view+json": {
       "model_id": "41ea0277a6294515be983c40b6ee81c4",
       "version_major": 2,
       "version_minor": 0
      },
      "text/plain": [
       "Renderer(camera=PerspectiveCamera(children=(DirectionalLight(color='white', intensity=0.6, position=(0.0001610…"
      ]
     },
     "metadata": {},
     "output_type": "display_data"
    },
    {
     "data": {
      "application/vnd.jupyter.widget-view+json": {
       "model_id": "e10147978d1a475685605b62358653da",
       "version_major": 2,
       "version_minor": 0
      },
      "text/plain": [
       "interactive(children=(Dropdown(description='s', options=(1, 2, 3, 4, 5), value=1), FloatSlider(value=0.0, desc…"
      ]
     },
     "metadata": {},
     "output_type": "display_data"
    },
    {
     "data": {
      "text/plain": [
       "<function __main__.pos_f(s, x, y, z, α, β, γ)>"
      ]
     },
     "execution_count": 115,
     "metadata": {},
     "output_type": "execute_result"
    }
   ],
   "source": [
    "\n",
    "## Widget UI\n",
    "\n",
    "p = mp.plot(Vb, f)\n",
    "# p = mp.plot(v,f)\n",
    "# p.add_points(VE)\n",
    "p.add_edges(VE,EE, shading={\"line_color\": \"green\"});\n",
    "iw.interact(pos_f,\n",
    "            **widgets_wrapper())"
   ]
  },
  {
   "cell_type": "code",
   "execution_count": 116,
   "id": "dfe1eb1d-2787-4bcb-b5f3-ba91029afe70",
   "metadata": {},
   "outputs": [
    {
     "data": {
      "text/plain": [
       "array([[-0.692193  ,  0.084945  ,  0.0399108 ],\n",
       "       [-0.693609  ,  0.090783  ,  0.0441324 ],\n",
       "       [-0.707763  ,  0.0805516 ,  0.038791  ],\n",
       "       ...,\n",
       "       [ 0.08140069,  0.18519857, -0.04254464],\n",
       "       [ 0.5987815 , -0.07760989,  0.06525213],\n",
       "       [ 0.73572894, -0.17523362,  0.09021015]])"
      ]
     },
     "execution_count": 116,
     "metadata": {},
     "output_type": "execute_result"
    }
   ],
   "source": [
    "handle_vertex_positions"
   ]
  },
  {
   "cell_type": "code",
   "execution_count": null,
   "id": "d5624712-2ecb-4d20-9a71-782455e71674",
   "metadata": {},
   "outputs": [],
   "source": []
  },
  {
   "cell_type": "code",
   "execution_count": null,
   "id": "41cc2402-358f-4171-a6e1-15a99f34754a",
   "metadata": {},
   "outputs": [],
   "source": []
  },
  {
   "cell_type": "code",
   "execution_count": null,
   "id": "2889dbf9-3802-4ce8-be46-7d8a039ff55f",
   "metadata": {},
   "outputs": [],
   "source": []
  },
  {
   "cell_type": "code",
   "execution_count": null,
   "id": "1b3c1169-b063-49f0-a9cd-4c93c3e35173",
   "metadata": {},
   "outputs": [],
   "source": []
  },
  {
   "cell_type": "code",
   "execution_count": null,
   "id": "91814487-1272-4b35-bf15-e132b85db6e2",
   "metadata": {},
   "outputs": [],
   "source": []
  }
 ],
 "metadata": {
  "kernelspec": {
   "display_name": "myEnv",
   "language": "python",
   "name": "myenv"
  },
  "language_info": {
   "codemirror_mode": {
    "name": "ipython",
    "version": 3
   },
   "file_extension": ".py",
   "mimetype": "text/x-python",
   "name": "python",
   "nbconvert_exporter": "python",
   "pygments_lexer": "ipython3",
   "version": "3.9.5"
  }
 },
 "nbformat": 4,
 "nbformat_minor": 5
}
