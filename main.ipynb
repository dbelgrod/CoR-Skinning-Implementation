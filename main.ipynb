{
 "cells": [
  {
   "cell_type": "code",
   "execution_count": 1,
   "id": "2ed3d274-a4ce-4a5b-9653-3a2ea03e5888",
   "metadata": {},
   "outputs": [],
   "source": [
    "import igl"
   ]
  },
  {
   "cell_type": "code",
   "execution_count": 11,
   "id": "5271ce69-9b37-4c7a-9a2e-fefe9eb413e9",
   "metadata": {},
   "outputs": [],
   "source": [
    "#https://github.com/libigl/libigl-tutorial-data"
   ]
  },
  {
   "cell_type": "code",
   "execution_count": 37,
   "id": "0810c0aa-df73-485b-8b2c-c096335214e5",
   "metadata": {},
   "outputs": [],
   "source": [
    "import numpy as np\n",
    "import igl\n",
    "import meshplot as mp\n",
    "from scipy.spatial.transform import Rotation\n",
    "import ipywidgets as iw\n",
    "import time\n",
    "from math import exp\n",
    "import quaternion"
   ]
  },
  {
   "cell_type": "code",
   "execution_count": 13,
   "id": "430c8747-1838-4529-824a-94932ade1402",
   "metadata": {},
   "outputs": [],
   "source": [
    "V, F = igl.read_triangle_mesh('data/arm.obj')\n",
    "C,BE,_,_,_,_ = igl.read_tgf('data/arm.tgf')\n",
    "W = igl.read_dmat('data/arm-weights.dmat')\n",
    "# labels = np.load('data/hand.label.npy').astype(int)\n",
    "# v -= v.min(axis=0)\n",
    "# v /= v.max()"
   ]
  },
  {
   "cell_type": "code",
   "execution_count": 14,
   "id": "696227b3-d7df-49c2-8a7c-bc4c47c2a34e",
   "metadata": {},
   "outputs": [],
   "source": [
    "# TV = np.concatenate((V, C))\n",
    "# TE = BE + V.shape[0]"
   ]
  },
  {
   "cell_type": "code",
   "execution_count": 15,
   "id": "f78811fd-0941-41a4-8ac8-9a738d439ef1",
   "metadata": {},
   "outputs": [],
   "source": [
    "# labels = np.concatenate((np.zeros(V.shape[0]), np.array(range(1,C.shape[0]+1)))).astype(int)\n",
    "labels = np.array(range(BE.shape[0])).astype(int)"
   ]
  },
  {
   "cell_type": "code",
   "execution_count": 112,
   "id": "c0500a98-ea5b-4e5e-b9a1-8c691beb6eb7",
   "metadata": {},
   "outputs": [
    {
     "data": {
      "text/plain": [
       "array([[ 0.6, -0.8,  0. ],\n",
       "       [ 0.8,  0.6,  0. ],\n",
       "       [ 0. ,  0. ,  1. ]])"
      ]
     },
     "execution_count": 112,
     "metadata": {},
     "output_type": "execute_result"
    }
   ],
   "source": [
    "quaternion.as_rotation_matrix(quaternion.as_quat_array([1,0,0,.5]))"
   ]
  },
  {
   "cell_type": "code",
   "execution_count": 212,
   "id": "602c6915-33e1-49c7-98ff-b16df2e00e8e",
   "metadata": {},
   "outputs": [],
   "source": [
    "def circle_sum(q1, q2):\n",
    "    return q1 + q2 if np.dot(quaternion.as_float_array(q1), quaternion.as_float_array(q2)) >= 0 else q1 - q2\n",
    "\n",
    "def apply_weighted_rotation(vertices, wgts, quat, CoR, translation): #vertices, weights, rot (as quat), CoR, translation array \n",
    "    vnew = vertices.copy()\n",
    "    for i in range(vertices.shape[0]):\n",
    "        vi = vertices[i]\n",
    "        wi = wgts[i]\n",
    "        \n",
    "        q = quaternion.as_quat_array([0,0,0,0])\n",
    "        for j in range(BE.shape[0]): # #BE\n",
    "            qj = quat[j]\n",
    "            wij = wi[j]\n",
    "            q = circle_sum(q, wij*qj)\n",
    "\n",
    "        # wqi  = np.sum(qi, axis=0)\n",
    "        q /= np.linalg.norm(quaternion.as_float_array(q))\n",
    "        \n",
    "        R = quaternion.as_rotation_matrix(q)\n",
    "        \n",
    "        Rtilda = np.zeros((3,3))\n",
    "        ttilda = np.zeros((3,1))\n",
    "        \n",
    "        for j in range(BE.shape[0]):\n",
    "            Rj = quaternion.as_rotation_matrix(quat[j]) #3 x 3\n",
    "            tj = translation[j] # 1 x 3\n",
    "            wij = wi[j]\n",
    "            Rtilda += wij*Rj\n",
    "            ttilda += wij*tj.reshape((3,1))\n",
    "            \n",
    "        t = Rtilda @ CoR[i].reshape((3,1)) + ttilda - R @ CoR[i].reshape((3,1))\n",
    "        \n",
    "        vnew[i] = (R @ vi.reshape((3,1)) + t).reshape(3)\n",
    "            \n",
    "\n",
    "        # vi_q = quaternion.as_quat_array(np.concatenate(([0], vi)))\n",
    "\n",
    "        # qi_q = quaternion.as_quat_array(wqi)\n",
    "\n",
    "        # res = qi_q.inverse() * vi_q * qi_q\n",
    "\n",
    "        # vnew[i] = [res.x, res.y, res.z]\n",
    "\n",
    "    return vnew\n",
    "\n",
    "def apply_weighted_rotation_linear(rot, vertices): \n",
    "    vertices_new = np.zeros(vertices.shape)\n",
    "    for i in range(vertices.shape[0]):\n",
    "        vi = vertices[i,:]\n",
    "        wi = W[i,:]\n",
    "        \n",
    "\n",
    "       \n",
    "        # wqi /= np.linalg.norm(wqi)\n",
    "        \n",
    "        r = Rotation.from_quat(rot)\n",
    "        \n",
    "        rotmat = r.as_matrix() #4 by 3 x 3\n",
    "        \n",
    "        for j in range(rot.shape[0]):\n",
    "            wj = wi[j]\n",
    "            Tj = rotmat[j,:]\n",
    "            \n",
    "            qi = np.eye(Tj.shape[0]) * wj @ Tj\n",
    "            wqi  = qi @ vi\n",
    "            vertices_new[i] += wqi\n",
    "        \n",
    "    return vertices_new\n",
    "\n",
    "def apply_rotation(rot, vertices):\n",
    "    vertices_new = vertices.copy()\n",
    "    for i in range(vertices.shape[0]):\n",
    "        vi = vertices[i,:]\n",
    "        # wi = W[i,:]\n",
    "        # qi = np.diag(wi) @ rot\n",
    "\n",
    "        # wqi  = np.sum(qi, axis=0)\n",
    "        # wqi /= np.linalg.norm(wqi)\n",
    "\n",
    "        vi_q = quaternion.as_quat_array(np.concatenate(([0], vi)))\n",
    "\n",
    "        # qi_q = quaternion.as_quat_array(wqi)\n",
    "        qi_q = quaternion.as_quat_array(rot)\n",
    "\n",
    "        # res = qi_q * vi_q * qi_q.inverse()\n",
    "        res = qi_q.inverse() * vi_q * qi_q\n",
    "\n",
    "        vertices_new[i] = [res.x, res.y, res.z]\n",
    "\n",
    "        # print(ri.shape)\n",
    "    return vertices_new"
   ]
  },
  {
   "cell_type": "code",
   "execution_count": null,
   "id": "053633fa-14d3-4b67-a308-c3de0f1198db",
   "metadata": {},
   "outputs": [],
   "source": []
  },
  {
   "cell_type": "code",
   "execution_count": 213,
   "id": "3de20c35-bda1-4fcf-822f-d01d5b8317e7",
   "metadata": {},
   "outputs": [],
   "source": [
    "def similarity(Wp, Wv, sigma=1):\n",
    "    #BE shape\n",
    "    Wp = Wp if len(Wp.shape) == 1 else Wp.reshape(-1)\n",
    "    Wv = Wv if len(Wv.shape) == 1 else Wv.reshape(-1)\n",
    "    \n",
    "    tot = 0\n",
    "    for j in range(Wp.shape[0]):\n",
    "        for k in range(j+1, Wv.shape[0]):\n",
    "            tot += Wp[j]*Wp[k]*Wv[j]*Wv[k]*exp( -(Wp[j]*Wv[k] - Wp[k]*Wv[j])**2 / sigma**2)\n",
    "    return tot\n",
    "\n",
    "def CoR(i, weights, vertices, faces):\n",
    "    \n",
    "    num = np.zeros([1, 3])\n",
    "    denom = np.zeros([1,3])\n",
    "    for t in range(faces.shape[0]):\n",
    "        s = similarity(weights[i], (weights[faces[t,0]] + weights[faces[t,1]] + weights[faces[t,2]]) / 3)\n",
    "        v = (vertices[faces[t,0]] + vertices[faces[t,1]] + vertices[faces[t,2]]) / 3\n",
    "        a = igl.doublearea(vertices, faces[[t]]) / 2 \n",
    "\n",
    "        num += s * v * a\n",
    "        denom += s * a\n",
    "    \n",
    "    pi = num / denom\n",
    "\n",
    "    return pi"
   ]
  },
  {
   "cell_type": "code",
   "execution_count": 214,
   "id": "b3c93d09-ee05-4686-95ed-9b82a60e2c20",
   "metadata": {},
   "outputs": [],
   "source": [
    "# pb = iw.IntProgress(\n",
    "#     value=0,\n",
    "#     min=0,\n",
    "#     max=V.shape[0],\n",
    "#     description='Loading:',\n",
    "#     bar_style='', # 'success', 'info', 'warning', 'danger' or ''\n",
    "#     style={'bar_color': 'maroon'},\n",
    "#     orientation='horizontal'\n",
    "# )\n",
    "# from IPython.display import display\n",
    "\n",
    "# import time\n",
    "# display(pb)\n",
    "\n",
    "# P = np.zeros(V.shape)\n",
    "# for i in range(P.shape[0]):\n",
    "#     P[i] = CoR(i, W, V, F)\n",
    "#     # time.sleep(.1)\n",
    "#     pb.value = i"
   ]
  },
  {
   "cell_type": "code",
   "execution_count": 215,
   "id": "917e0f38-7654-4700-b69b-1120c79f1003",
   "metadata": {},
   "outputs": [],
   "source": [
    "# import pickle\n",
    "# pickle.dump(P, open(\"data/CoR.p\", \"wb\"))"
   ]
  },
  {
   "cell_type": "code",
   "execution_count": 216,
   "id": "2f3eae4a-ebdc-4446-8824-6247069cd8f3",
   "metadata": {},
   "outputs": [],
   "source": [
    "P = pickle.load(open('data/CoR.p', 'rb'))"
   ]
  },
  {
   "cell_type": "code",
   "execution_count": 217,
   "id": "4b369342-2088-42c9-b9d1-7d1de0c751d3",
   "metadata": {},
   "outputs": [],
   "source": [
    "handle_vertex_positions = V.copy()\n",
    "\n",
    "pos_f_saver = np.zeros((labels.max()+1, 7))\n",
    "\n",
    "def pos_f(s,x,y,z, w, α, β, γ):\n",
    "    print(np.isin(labels, s))\n",
    "    clicked_edges = BE[np.isin(labels, s)]\n",
    "    slices = []\n",
    "    for e in clicked_edges:\n",
    "        for v in e:\n",
    "            if v not in slices:\n",
    "                slices.append(v)\n",
    "                \n",
    "    print(slices)\n",
    " \n",
    "        \n",
    "    # r = Rotation.from_euler('xyz', [α, β, γ], degrees=True)\n",
    "    # r = quaternion.from_quat([w, α, β, γ])\n",
    "    r = np.array([w, α, β, γ])\n",
    "    # v_slice = TV[slices] + np.array([[x,y,z]])\n",
    "    v_slice = C[slices] + np.array([[x,y,z]])\n",
    "    \n",
    "    # print(r.as_quat())\n",
    "    \n",
    "    # center = v_slice.mean(axis=0)\n",
    "    C1 = C.copy()\n",
    "    # C1[slices] = r.apply(v_slice)\n",
    "    C1[slices] = apply_rotation(r, v_slice)\n",
    "    for si in s:\n",
    "        print(\"si \" ,si)\n",
    "        pos_f_saver[si] = [x,y,z,w,α,β,γ]\n",
    "    \n",
    "    # Qt0  = quaternion.as_quat_array(igl.directed_edge_orientations(C,BE))\n",
    "    # Qt1  =  quaternion.as_quat_array(igl.directed_edge_orientations(C1,BE))\n",
    "    \n",
    "    # qto * diff = qt1\n",
    "    # diff = qt0^-1 * qt1\n",
    "    print(BE)\n",
    "    \n",
    "    q = np.zeros((BE.shape[0], 4))\n",
    "    t = np.zeros((BE.shape[0], 3))\n",
    "    for i in range(BE.shape[0]):\n",
    "        # res =  Qt0[i].inverse() * Qt1[i] \n",
    "        # diff[i,:] = [res.w, res.x, res.y, res.z]\n",
    "        xi,yi,zi,wi,αi,βi,γi = pos_f_saver[i]\n",
    "        q[i,:] = [wi,αi,βi,γi]\n",
    "        t[i,:] = [xi, yi, zi]\n",
    "    \n",
    "    q = quaternion.as_quat_array(q)\n",
    "    print(q)\n",
    "    print(t)\n",
    "    \n",
    "    handle_vertex_positions = V.copy()\n",
    "    # handle_vertex_positions = apply_weighted_rotation(diff, V) \n",
    "    handle_vertex_positions = apply_weighted_rotation(V,W, q, P, t)\n",
    "    print(handle_vertex_positions)\n",
    "    \n",
    "\n",
    "    v_deformed = pos_f.deformer(handle_vertex_positions)\n",
    "    # p.update_object(vertices = v_deformed)\n",
    "    p.update_object(vertices = v_deformed)\n",
    "    p.remove_object(max(p._Viewer__objects.keys()))\n",
    "    p.add_edges(C1+np.repeat([[0,.25,0]], C1.shape[0], axis=0), BE, shading={\"line_color\": \"green\"})\n",
    "  \n",
    "pos_f.deformer = lambda x:x"
   ]
  },
  {
   "cell_type": "code",
   "execution_count": 218,
   "id": "502667d8-c06a-4472-a3c7-697574918e4d",
   "metadata": {},
   "outputs": [],
   "source": [
    "def widgets_wrapper():\n",
    "    # segment_widget = iw.Dropdown(options=np.arange(labels.max()) + 1)\n",
    "    segment_widget = iw.SelectMultiple(options=np.arange(labels.max()+1))\n",
    "    translate_widget = {i:iw.FloatSlider(min=-1, max=1, value=0) \n",
    "                        for i in 'xyz'}\n",
    "    # rotate_widget = {a:iw.FloatSlider(min=-90, max=90, value=0, step=1) \n",
    "    #                  for a in 'αβγ'}\n",
    "    real_widget = {a:iw.FloatSlider(min=-2, max=2, value=1, step=.25) \n",
    "                     for a in 'w'}\n",
    "    imag_widget = {a:iw.FloatSlider(min=-1, max=1, value=0, step=.1) \n",
    "                     for a in 'αβγ'}\n",
    "\n",
    "    def update_seg(*args):\n",
    "        (translate_widget['x'].value,translate_widget['y'].value,\n",
    "        translate_widget['z'].value, real_widget['w'].value,\n",
    "        imag_widget['α'].value,imag_widget['β'].value,\n",
    "        imag_widget['γ'].value) = pos_f_saver[segment_widget.value]\n",
    "    segment_widget.observe(update_seg, 'value')\n",
    "    widgets_dict = dict(s=segment_widget)\n",
    "    widgets_dict.update(translate_widget)\n",
    "    widgets_dict.update(real_widget)\n",
    "    widgets_dict.update(imag_widget)\n",
    "    return widgets_dict"
   ]
  },
  {
   "cell_type": "code",
   "execution_count": 219,
   "id": "2ced7bef-b2c6-4e01-941f-185174399a50",
   "metadata": {},
   "outputs": [
    {
     "data": {
      "text/plain": [
       "' (Optional) Register this function to perform interactive deformation\\npos_f.deformer = position_deformer\\n'"
      ]
     },
     "execution_count": 219,
     "metadata": {},
     "output_type": "execute_result"
    }
   ],
   "source": [
    "def position_deformer(target_pos):\n",
    "    '''Fill in this function to change positions'''\n",
    "    return target_pos\n",
    "''' (Optional) Register this function to perform interactive deformation\n",
    "pos_f.deformer = position_deformer\n",
    "'''"
   ]
  },
  {
   "cell_type": "code",
   "execution_count": 220,
   "id": "e06983f3-c1d9-4ee0-b1b2-6638ad342c01",
   "metadata": {},
   "outputs": [
    {
     "data": {
      "application/vnd.jupyter.widget-view+json": {
       "model_id": "84fbf70ebd114db682014a47101cf3d3",
       "version_major": 2,
       "version_minor": 0
      },
      "text/plain": [
       "Renderer(camera=PerspectiveCamera(children=(DirectionalLight(color='white', intensity=0.6, position=(0.0001610…"
      ]
     },
     "metadata": {},
     "output_type": "display_data"
    },
    {
     "data": {
      "application/vnd.jupyter.widget-view+json": {
       "model_id": "a4f0ad0ca234427fa9e0a234909db5fb",
       "version_major": 2,
       "version_minor": 0
      },
      "text/plain": [
       "interactive(children=(SelectMultiple(description='s', options=(0, 1, 2, 3), value=()), FloatSlider(value=0.0, …"
      ]
     },
     "metadata": {},
     "output_type": "display_data"
    },
    {
     "data": {
      "text/plain": [
       "<function __main__.pos_f(s, x, y, z, w, α, β, γ)>"
      ]
     },
     "execution_count": 220,
     "metadata": {},
     "output_type": "execute_result"
    }
   ],
   "source": [
    "\n",
    "## Widget UI\n",
    "\n",
    "p = mp.plot(V, F)\n",
    "# p = mp.plot(v,f)\n",
    "# p.add_points(VE)\n",
    "p.add_edges(C,BE, shading={\"line_color\": \"green\"});\n",
    "iw.interact(pos_f,\n",
    "            **widgets_wrapper())"
   ]
  },
  {
   "cell_type": "code",
   "execution_count": 210,
   "id": "dfe1eb1d-2787-4bcb-b5f3-ba91029afe70",
   "metadata": {},
   "outputs": [],
   "source": [
    "A = np.array([[1,1,1], [1,1,1], [1,1,1]]).astype(\"float64\")\n",
    "BA = np.array([[0,2], [2,1], [1,0]])"
   ]
  },
  {
   "cell_type": "code",
   "execution_count": 211,
   "id": "d5624712-2ecb-4d20-9a71-782455e71674",
   "metadata": {},
   "outputs": [],
   "source": [
    "r1 = igl.directed_edge_orientations(A, BA)"
   ]
  },
  {
   "cell_type": "code",
   "execution_count": null,
   "id": "c9bbf24d-2d63-47d8-bd1c-330c02a40518",
   "metadata": {},
   "outputs": [],
   "source": []
  },
  {
   "cell_type": "code",
   "execution_count": 556,
   "id": "41cc2402-358f-4171-a6e1-15a99f34754a",
   "metadata": {},
   "outputs": [
    {
     "name": "stdout",
     "output_type": "stream",
     "text": [
      "[[ 1.  1.  1.]\n",
      " [21. 21. 21.]\n",
      " [ 1.  1.  1.]]\n"
     ]
    }
   ],
   "source": [
    "x = A.copy()\n",
    "x[1,:] += 20\n",
    "print(x)"
   ]
  },
  {
   "cell_type": "code",
   "execution_count": 557,
   "id": "df1a7af3-a229-4d3d-8104-01d5416305bb",
   "metadata": {},
   "outputs": [
    {
     "data": {
      "text/plain": [
       "array([[ 0.        ,  0.        ,  0.        ,  0.70710678],\n",
       "       [ 0.        , -0.32505758,  0.32505758,  0.88807383],\n",
       "       [ 0.        ,  0.62796303, -0.62796303,  0.45970084]])"
      ]
     },
     "execution_count": 557,
     "metadata": {},
     "output_type": "execute_result"
    }
   ],
   "source": [
    "r2 = igl.directed_edge_orientations(x, BA)\n",
    "r2"
   ]
  },
  {
   "cell_type": "code",
   "execution_count": 558,
   "id": "2889dbf9-3802-4ce8-be46-7d8a039ff55f",
   "metadata": {},
   "outputs": [],
   "source": [
    "# W is expressed in terms of bones\n",
    "# So we need to determine rotation of each bone then multiply by weights and sum to get new vertices\n",
    "# As we move the vertices up down, rotate we have to recalculate the bone rotations and then above"
   ]
  },
  {
   "cell_type": "code",
   "execution_count": null,
   "id": "1b3c1169-b063-49f0-a9cd-4c93c3e35173",
   "metadata": {},
   "outputs": [],
   "source": [
    "# // vQ is a list of rotations as quaternions\n",
    "# // vT is a list of translations\n",
    "# igl::dqs(V,W,vQ,vT,U);"
   ]
  },
  {
   "cell_type": "code",
   "execution_count": 75,
   "id": "91814487-1272-4b35-bf15-e132b85db6e2",
   "metadata": {},
   "outputs": [],
   "source": [
    "# VE,EE,P,BE,CE,PE\n",
    "Q = igl.directed_edge_orientations(C,BE);\n",
    "# Q #E list of quaternions"
   ]
  },
  {
   "cell_type": "code",
   "execution_count": 356,
   "id": "e7a44cca-91b6-45e8-a767-995bd896f05c",
   "metadata": {},
   "outputs": [],
   "source": [
    "x = []\n",
    "x.extend([3,4])"
   ]
  },
  {
   "cell_type": "code",
   "execution_count": 357,
   "id": "c8b9e490-f2ff-4072-a864-f307d0899387",
   "metadata": {},
   "outputs": [
    {
     "data": {
      "text/plain": [
       "[3, 4]"
      ]
     },
     "execution_count": 357,
     "metadata": {},
     "output_type": "execute_result"
    }
   ],
   "source": [
    "x"
   ]
  },
  {
   "cell_type": "code",
   "execution_count": 795,
   "id": "9a69fae3-f3e7-4afd-99bd-b49215a622a6",
   "metadata": {},
   "outputs": [
    {
     "data": {
      "text/plain": [
       "True"
      ]
     },
     "execution_count": 795,
     "metadata": {},
     "output_type": "execute_result"
    }
   ],
   "source": [
    "np.all(np.array([0,0,0,0]) == 0)"
   ]
  },
  {
   "cell_type": "code",
   "execution_count": null,
   "id": "76235ff5-942a-4aff-9adb-75ba6a09e4d7",
   "metadata": {},
   "outputs": [],
   "source": []
  },
  {
   "cell_type": "code",
   "execution_count": null,
   "id": "c8f5c006-f6ae-4045-8744-accce14f7094",
   "metadata": {},
   "outputs": [],
   "source": [
    "\n"
   ]
  },
  {
   "cell_type": "code",
   "execution_count": null,
   "id": "9bf224e2-554f-4386-8b1e-956aec7af64b",
   "metadata": {},
   "outputs": [],
   "source": []
  },
  {
   "cell_type": "code",
   "execution_count": null,
   "id": "dd2117a6-199b-44d7-91eb-f085b2d4e178",
   "metadata": {},
   "outputs": [],
   "source": []
  },
  {
   "cell_type": "code",
   "execution_count": null,
   "id": "d24eaf5d-33fa-406d-8b90-66dd4b0a24c6",
   "metadata": {},
   "outputs": [],
   "source": []
  },
  {
   "cell_type": "code",
   "execution_count": null,
   "id": "4fd29d79-9dcb-4991-89c0-7da14d8a19c6",
   "metadata": {},
   "outputs": [],
   "source": []
  },
  {
   "cell_type": "code",
   "execution_count": null,
   "id": "cff8e2c0-db34-4ab0-ab87-6bb9c5441905",
   "metadata": {},
   "outputs": [],
   "source": []
  },
  {
   "cell_type": "code",
   "execution_count": null,
   "id": "c0fa2681-21b2-4899-8fe4-326a2194c647",
   "metadata": {},
   "outputs": [],
   "source": []
  },
  {
   "cell_type": "code",
   "execution_count": 152,
   "id": "83bac6ec-7b91-4fd0-b7f1-33d82da11587",
   "metadata": {},
   "outputs": [
    {
     "data": {
      "text/plain": [
       "array([[0, 0, 0, 1],\n",
       "       [0, 0, 0, 1],\n",
       "       [0, 0, 0, 1],\n",
       "       [0, 0, 0, 1]])"
      ]
     },
     "execution_count": 152,
     "metadata": {},
     "output_type": "execute_result"
    }
   ],
   "source": [
    "# TQ = np.repeat([[1,0,0,0]], 4, axis = 0)\n",
    "# TQ = np.array(TQ)\n",
    "TQ = np.array([[0,0,0,1],\n",
    "               [0,0,0,1],\n",
    "               [0,0,0,1],\n",
    "               [0,0,0,1]])\n",
    "TQ"
   ]
  },
  {
   "cell_type": "code",
   "execution_count": 167,
   "id": "361815f8-76fc-465a-aafd-9f141b9bfaba",
   "metadata": {},
   "outputs": [
    {
     "data": {
      "text/plain": [
       "quaternion(0, 0, 0, 0.25)"
      ]
     },
     "execution_count": 167,
     "metadata": {},
     "output_type": "execute_result"
    }
   ],
   "source": [
    "quaternion.as_quat_array(TQ)[0] / 4"
   ]
  },
  {
   "cell_type": "code",
   "execution_count": 469,
   "id": "747ea418-2d80-422b-b43d-1124530fe34e",
   "metadata": {},
   "outputs": [
    {
     "data": {
      "application/vnd.jupyter.widget-view+json": {
       "model_id": "ed8648b0cf6b4952908306878317492e",
       "version_major": 2,
       "version_minor": 0
      },
      "text/plain": [
       "Renderer(camera=PerspectiveCamera(children=(DirectionalLight(color='white', intensity=0.6, position=(-0.000161…"
      ]
     },
     "metadata": {},
     "output_type": "display_data"
    },
    {
     "data": {
      "text/plain": [
       "1"
      ]
     },
     "execution_count": 469,
     "metadata": {},
     "output_type": "execute_result"
    }
   ],
   "source": [
    "Vprime = V.copy()\n",
    "Vprime = apply_rotation(TQ, Vprime)\n",
    "p = mp.plot(Vprime, F)\n",
    "p.add_mesh(V+.5, F)"
   ]
  },
  {
   "cell_type": "code",
   "execution_count": 470,
   "id": "7625be0d-e0e4-4524-8e7f-f38aa92117dd",
   "metadata": {},
   "outputs": [
    {
     "data": {
      "text/plain": [
       "-3450.1874185494"
      ]
     },
     "execution_count": 470,
     "metadata": {},
     "output_type": "execute_result"
    }
   ],
   "source": [
    "np.sum(Vprime - V)"
   ]
  },
  {
   "cell_type": "code",
   "execution_count": 85,
   "id": "ada8c443-400b-494b-a885-989478832d7e",
   "metadata": {},
   "outputs": [
    {
     "data": {
      "text/plain": [
       "array([4, 8])"
      ]
     },
     "execution_count": 85,
     "metadata": {},
     "output_type": "execute_result"
    }
   ],
   "source": [
    "np.sum(x,axis=1)"
   ]
  },
  {
   "cell_type": "code",
   "execution_count": 81,
   "id": "10c6efa1-3aea-463e-b044-b9df6f2c1d6c",
   "metadata": {},
   "outputs": [],
   "source": [
    "y = np.array([1, 0,0,.5])\n",
    "x = np.array([-5, 0,0,.5])"
   ]
  },
  {
   "cell_type": "code",
   "execution_count": null,
   "id": "26b04f1e-0186-45b4-aed3-ed96a1504d90",
   "metadata": {},
   "outputs": [],
   "source": []
  },
  {
   "cell_type": "code",
   "execution_count": null,
   "id": "6cc8d148-b6e0-4afe-a8c5-c63e4738e894",
   "metadata": {},
   "outputs": [],
   "source": []
  },
  {
   "cell_type": "code",
   "execution_count": null,
   "id": "388b1add-f4ac-489f-ba61-fd92a279446c",
   "metadata": {},
   "outputs": [],
   "source": []
  },
  {
   "cell_type": "code",
   "execution_count": null,
   "id": "aefae420-cd47-4422-8674-a5a42382d87f",
   "metadata": {},
   "outputs": [],
   "source": []
  },
  {
   "cell_type": "code",
   "execution_count": null,
   "id": "73b43ecb-5e11-497d-94d3-ac0b73855dbc",
   "metadata": {},
   "outputs": [],
   "source": []
  },
  {
   "cell_type": "code",
   "execution_count": 146,
   "id": "3680dbcc-f8be-4951-bc95-948cfb434033",
   "metadata": {},
   "outputs": [],
   "source": [
    "def circle_sum(q1, q2):\n",
    "    return q1 + q2 if np.dot(quaternion.as_float_array(q1), quaternion.as_float_array(q2)) >= 0 else q1 - q2"
   ]
  },
  {
   "cell_type": "code",
   "execution_count": 94,
   "id": "440d5965-d288-436a-a219-fef15db08a11",
   "metadata": {},
   "outputs": [],
   "source": [
    "A = quaternion.as_quat_array(y)\n",
    "B = quaternion.as_quat_array(x)"
   ]
  },
  {
   "cell_type": "code",
   "execution_count": 168,
   "id": "f63bfe0d-3e03-4bd2-89ee-5757aba733c7",
   "metadata": {},
   "outputs": [
    {
     "data": {
      "text/plain": [
       "-4.75"
      ]
     },
     "execution_count": 168,
     "metadata": {},
     "output_type": "execute_result"
    }
   ],
   "source": [
    "np.dot(quaternion.as_float_array(A), quaternion.as_float_array(B))"
   ]
  },
  {
   "cell_type": "code",
   "execution_count": null,
   "id": "25fc278a-7e54-4939-85c9-c4abc14d8c0a",
   "metadata": {},
   "outputs": [],
   "source": []
  },
  {
   "cell_type": "code",
   "execution_count": null,
   "id": "4aa2b26a-d52d-44e1-8dfc-558b9d8cbdd5",
   "metadata": {},
   "outputs": [],
   "source": []
  },
  {
   "cell_type": "code",
   "execution_count": null,
   "id": "6ac7cf06-1c90-4602-9e5e-8cd3eac37d11",
   "metadata": {},
   "outputs": [],
   "source": []
  }
 ],
 "metadata": {
  "kernelspec": {
   "display_name": "myEnv",
   "language": "python",
   "name": "myenv"
  },
  "language_info": {
   "codemirror_mode": {
    "name": "ipython",
    "version": 3
   },
   "file_extension": ".py",
   "mimetype": "text/x-python",
   "name": "python",
   "nbconvert_exporter": "python",
   "pygments_lexer": "ipython3",
   "version": "3.9.5"
  }
 },
 "nbformat": 4,
 "nbformat_minor": 5
}
