{
 "cells": [
  {
   "cell_type": "code",
   "execution_count": 1,
   "id": "2ed3d274-a4ce-4a5b-9653-3a2ea03e5888",
   "metadata": {},
   "outputs": [],
   "source": [
    "import igl"
   ]
  },
  {
   "cell_type": "code",
   "execution_count": 2,
   "id": "5271ce69-9b37-4c7a-9a2e-fefe9eb413e9",
   "metadata": {},
   "outputs": [],
   "source": [
    "#https://github.com/libigl/libigl-tutorial-data"
   ]
  },
  {
   "cell_type": "code",
   "execution_count": 3,
   "id": "0810c0aa-df73-485b-8b2c-c096335214e5",
   "metadata": {},
   "outputs": [],
   "source": [
    "import numpy as np\n",
    "import igl\n",
    "import meshplot as mp\n",
    "from scipy.spatial.transform import Rotation\n",
    "import ipywidgets as iw\n",
    "import time"
   ]
  },
  {
   "cell_type": "code",
   "execution_count": 4,
   "id": "430c8747-1838-4529-824a-94932ade1402",
   "metadata": {},
   "outputs": [],
   "source": [
    "V, F = igl.read_triangle_mesh('data/arm.obj')\n",
    "C,BE,_,_,_,_ = igl.read_tgf('data/arm.tgf')\n",
    "W = igl.read_dmat('data/arm-weights.dmat')\n",
    "# labels = np.load('data/hand.label.npy').astype(int)\n",
    "# v -= v.min(axis=0)\n",
    "# v /= v.max()"
   ]
  },
  {
   "cell_type": "code",
   "execution_count": 5,
   "id": "696227b3-d7df-49c2-8a7c-bc4c47c2a34e",
   "metadata": {},
   "outputs": [],
   "source": [
    "TV = np.concatenate((V, C))\n",
    "TE = BE + V.shape[0]"
   ]
  },
  {
   "cell_type": "code",
   "execution_count": 6,
   "id": "f78811fd-0941-41a4-8ac8-9a738d439ef1",
   "metadata": {},
   "outputs": [],
   "source": [
    "labels = np.concatenate((np.zeros(V.shape[0]), np.array(range(1,C.shape[0]+1)))).astype(int)"
   ]
  },
  {
   "cell_type": "code",
   "execution_count": 9,
   "id": "4b369342-2088-42c9-b9d1-7d1de0c751d3",
   "metadata": {},
   "outputs": [],
   "source": [
    "handle_vertex_positions = TV.copy()\n",
    "pos_f_saver = np.zeros((labels.max() + 1, 6))\n",
    "def pos_f(s,x,y,z, α, β, γ):\n",
    "    slices = (labels==s)\n",
    "    r = Rotation.from_euler('xyz', [α, β, γ], degrees=True)\n",
    "    v_slice = TV[slices] + np.array([[x,y,z]])\n",
    "    # v_slice = v[slices] + np.array([[x,y,z]])\n",
    "    center = v_slice.mean(axis=0)\n",
    "    handle_vertex_positions[slices] = r.apply(v_slice - center) + center\n",
    "    pos_f_saver[s - 1] = [x,y,z,α,β,γ]\n",
    "    t0 = time.time()\n",
    "    v_deformed = pos_f.deformer(handle_vertex_positions)\n",
    "    # p.update_object(vertices = v_deformed)\n",
    "    p.update_object(vertices = v_deformed)\n",
    "    t1 = time.time()\n",
    "    print('FPS', 1/(t1 - t0))\n",
    "pos_f.deformer = lambda x:x"
   ]
  },
  {
   "cell_type": "code",
   "execution_count": 10,
   "id": "502667d8-c06a-4472-a3c7-697574918e4d",
   "metadata": {},
   "outputs": [],
   "source": [
    "def widgets_wrapper():\n",
    "    segment_widget = iw.Dropdown(options=np.arange(labels.max()) + 1)\n",
    "    translate_widget = {i:iw.FloatSlider(min=-1, max=1, value=0) \n",
    "                        for i in 'xyz'}\n",
    "    rotate_widget = {a:iw.FloatSlider(min=-90, max=90, value=0, step=1) \n",
    "                     for a in 'αβγ'}\n",
    "\n",
    "    def update_seg(*args):\n",
    "        (translate_widget['x'].value,translate_widget['y'].value,\n",
    "        translate_widget['z'].value,\n",
    "        rotate_widget['α'].value,rotate_widget['β'].value,\n",
    "        rotate_widget['γ'].value) = pos_f_saver[segment_widget.value]\n",
    "    segment_widget.observe(update_seg, 'value')\n",
    "    widgets_dict = dict(s=segment_widget)\n",
    "    widgets_dict.update(translate_widget)\n",
    "    widgets_dict.update(rotate_widget)\n",
    "    return widgets_dict"
   ]
  },
  {
   "cell_type": "code",
   "execution_count": 11,
   "id": "2ced7bef-b2c6-4e01-941f-185174399a50",
   "metadata": {},
   "outputs": [
    {
     "data": {
      "text/plain": [
       "' (Optional) Register this function to perform interactive deformation\\npos_f.deformer = position_deformer\\n'"
      ]
     },
     "execution_count": 11,
     "metadata": {},
     "output_type": "execute_result"
    }
   ],
   "source": [
    "def position_deformer(target_pos):\n",
    "    '''Fill in this function to change positions'''\n",
    "    return target_pos\n",
    "''' (Optional) Register this function to perform interactive deformation\n",
    "pos_f.deformer = position_deformer\n",
    "'''"
   ]
  },
  {
   "cell_type": "code",
   "execution_count": 12,
   "id": "e06983f3-c1d9-4ee0-b1b2-6638ad342c01",
   "metadata": {},
   "outputs": [
    {
     "name": "stderr",
     "output_type": "stream",
     "text": [
      "/Users/davidbelgrod/miniconda3/lib/python3.9/site-packages/jupyter_client/session.py:716: UserWarning: Message serialization failed with:\n",
      "Out of range float values are not JSON compliant\n",
      "Supporting this message is deprecated in jupyter-client 7, please make sure your message is JSON-compliant\n",
      "  content = self.pack(content)\n"
     ]
    },
    {
     "data": {
      "application/vnd.jupyter.widget-view+json": {
       "model_id": "49522e7e6e9d44b1ac23353c6022a2cd",
       "version_major": 2,
       "version_minor": 0
      },
      "text/plain": [
       "Renderer(camera=PerspectiveCamera(children=(DirectionalLight(color='white', intensity=0.6, position=(0.0001610…"
      ]
     },
     "metadata": {},
     "output_type": "display_data"
    },
    {
     "data": {
      "application/vnd.jupyter.widget-view+json": {
       "model_id": "2ed516267f6a4aff8859b5c9c061917b",
       "version_major": 2,
       "version_minor": 0
      },
      "text/plain": [
       "interactive(children=(Dropdown(description='s', options=(1, 2, 3, 4, 5), value=1), FloatSlider(value=0.0, desc…"
      ]
     },
     "metadata": {},
     "output_type": "display_data"
    },
    {
     "data": {
      "text/plain": [
       "<function __main__.pos_f(s, x, y, z, α, β, γ)>"
      ]
     },
     "execution_count": 12,
     "metadata": {},
     "output_type": "execute_result"
    }
   ],
   "source": [
    "\n",
    "## Widget UI\n",
    "\n",
    "p = mp.plot(TV, F)\n",
    "# p = mp.plot(v,f)\n",
    "# p.add_points(VE)\n",
    "p.add_edges(C,BE, shading={\"line_color\": \"green\"});\n",
    "iw.interact(pos_f,\n",
    "            **widgets_wrapper())"
   ]
  },
  {
   "cell_type": "code",
   "execution_count": 13,
   "id": "dfe1eb1d-2787-4bcb-b5f3-ba91029afe70",
   "metadata": {},
   "outputs": [
    {
     "data": {
      "text/plain": [
       "array([[-0.692193  ,  0.084945  ,  0.0399108 ],\n",
       "       [-0.693609  ,  0.090783  ,  0.0441324 ],\n",
       "       [-0.707763  ,  0.0805516 ,  0.038791  ],\n",
       "       ...,\n",
       "       [ 0.08140069,  0.18519857, -0.04254464],\n",
       "       [ 0.5987815 , -0.07760989,  0.06525213],\n",
       "       [ 0.73572894, -0.17523362,  0.09021015]])"
      ]
     },
     "execution_count": 13,
     "metadata": {},
     "output_type": "execute_result"
    }
   ],
   "source": [
    "handle_vertex_positions"
   ]
  },
  {
   "cell_type": "code",
   "execution_count": 14,
   "id": "d5624712-2ecb-4d20-9a71-782455e71674",
   "metadata": {},
   "outputs": [
    {
     "data": {
      "text/plain": [
       "(5, 3)"
      ]
     },
     "execution_count": 14,
     "metadata": {},
     "output_type": "execute_result"
    }
   ],
   "source": [
    "C.shape"
   ]
  },
  {
   "cell_type": "code",
   "execution_count": null,
   "id": "41cc2402-358f-4171-a6e1-15a99f34754a",
   "metadata": {},
   "outputs": [],
   "source": [
    "W.shape"
   ]
  },
  {
   "cell_type": "code",
   "execution_count": null,
   "id": "2889dbf9-3802-4ce8-be46-7d8a039ff55f",
   "metadata": {},
   "outputs": [],
   "source": [
    "# W is expressed in terms of bones\n",
    "# So we need to determine rotation of each bone then multiply by weights and sum to get new vertices\n",
    "# As we move the vertices up down, rotate we have to recalculate the bone rotations and then above"
   ]
  },
  {
   "cell_type": "code",
   "execution_count": null,
   "id": "1b3c1169-b063-49f0-a9cd-4c93c3e35173",
   "metadata": {},
   "outputs": [],
   "source": [
    "# // vQ is a list of rotations as quaternions\n",
    "# // vT is a list of translations\n",
    "# igl::dqs(V,W,vQ,vT,U);"
   ]
  },
  {
   "cell_type": "code",
   "execution_count": 75,
   "id": "91814487-1272-4b35-bf15-e132b85db6e2",
   "metadata": {},
   "outputs": [],
   "source": [
    "# VE,EE,P,BE,CE,PE\n",
    "Q = igl.directed_edge_orientations(C,BE);\n",
    "# Q #E list of quaternions"
   ]
  },
  {
   "cell_type": "code",
   "execution_count": 76,
   "id": "e7a44cca-91b6-45e8-a767-995bd896f05c",
   "metadata": {},
   "outputs": [
    {
     "data": {
      "text/plain": [
       "(4, 4)"
      ]
     },
     "execution_count": 76,
     "metadata": {},
     "output_type": "execute_result"
    }
   ],
   "source": [
    "Q.shape"
   ]
  },
  {
   "cell_type": "code",
   "execution_count": 73,
   "id": "c8b9e490-f2ff-4072-a864-f307d0899387",
   "metadata": {},
   "outputs": [
    {
     "data": {
      "text/plain": [
       "(8311, 4)"
      ]
     },
     "execution_count": 73,
     "metadata": {},
     "output_type": "execute_result"
    }
   ],
   "source": [
    "W.shape"
   ]
  },
  {
   "cell_type": "code",
   "execution_count": 34,
   "id": "9a69fae3-f3e7-4afd-99bd-b49215a622a6",
   "metadata": {},
   "outputs": [],
   "source": [
    "Q.shape\n",
    "Vnorm = np.linalg.norm(Vprime, axis = 1).reshape((-1,1))"
   ]
  },
  {
   "cell_type": "code",
   "execution_count": 36,
   "id": "76235ff5-942a-4aff-9adb-75ba6a09e4d7",
   "metadata": {},
   "outputs": [],
   "source": [
    "Vprime = (W @ Q) / np.repeat(Vnorm, BE.shape[0], axis = 1)"
   ]
  },
  {
   "cell_type": "code",
   "execution_count": 54,
   "id": "c8f5c006-f6ae-4045-8744-accce14f7094",
   "metadata": {},
   "outputs": [
    {
     "data": {
      "text/plain": [
       "(8311, 4)"
      ]
     },
     "execution_count": 54,
     "metadata": {},
     "output_type": "execute_result"
    }
   ],
   "source": [
    "\n"
   ]
  },
  {
   "cell_type": "code",
   "execution_count": 50,
   "id": "9bf224e2-554f-4386-8b1e-956aec7af64b",
   "metadata": {},
   "outputs": [],
   "source": [
    "import quaternion\n",
    "QQ = quaternion.as_quat_array(Q)"
   ]
  },
  {
   "cell_type": "code",
   "execution_count": 56,
   "id": "dd2117a6-199b-44d7-91eb-f085b2d4e178",
   "metadata": {},
   "outputs": [
    {
     "data": {
      "text/plain": [
       "(8311, 3)"
      ]
     },
     "execution_count": 56,
     "metadata": {},
     "output_type": "execute_result"
    }
   ],
   "source": [
    "V.shape"
   ]
  },
  {
   "cell_type": "code",
   "execution_count": 57,
   "id": "d24eaf5d-33fa-406d-8b90-66dd4b0a24c6",
   "metadata": {},
   "outputs": [
    {
     "data": {
      "text/plain": [
       "(8311, 4)"
      ]
     },
     "execution_count": 57,
     "metadata": {},
     "output_type": "execute_result"
    }
   ],
   "source": [
    "W.shape\n"
   ]
  },
  {
   "cell_type": "code",
   "execution_count": 68,
   "id": "4fd29d79-9dcb-4991-89c0-7da14d8a19c6",
   "metadata": {},
   "outputs": [
    {
     "data": {
      "text/plain": [
       "array([[-0.692193 ,  0.084945 ,  0.0399108],\n",
       "       [-0.693609 ,  0.090783 ,  0.0441324],\n",
       "       [-0.707763 ,  0.0805516,  0.038791 ],\n",
       "       ...,\n",
       "       [-0.891664 ,  0.0875205, -0.0301159],\n",
       "       [-0.814435 ,  0.161851 , -0.152605 ],\n",
       "       [-0.831258 ,  0.123607 , -0.141994 ]])"
      ]
     },
     "execution_count": 68,
     "metadata": {},
     "output_type": "execute_result"
    }
   ],
   "source": [
    "V"
   ]
  },
  {
   "cell_type": "code",
   "execution_count": 69,
   "id": "cff8e2c0-db34-4ab0-ab87-6bb9c5441905",
   "metadata": {},
   "outputs": [
    {
     "data": {
      "text/plain": [
       "(8311, 3)"
      ]
     },
     "execution_count": 69,
     "metadata": {},
     "output_type": "execute_result"
    }
   ],
   "source": [
    "V.shape"
   ]
  },
  {
   "cell_type": "code",
   "execution_count": 70,
   "id": "c0fa2681-21b2-4899-8fe4-326a2194c647",
   "metadata": {},
   "outputs": [
    {
     "data": {
      "text/plain": [
       "(4, 4)"
      ]
     },
     "execution_count": 70,
     "metadata": {},
     "output_type": "execute_result"
    }
   ],
   "source": [
    "Q.shape"
   ]
  },
  {
   "cell_type": "code",
   "execution_count": 153,
   "id": "83bac6ec-7b91-4fd0-b7f1-33d82da11587",
   "metadata": {},
   "outputs": [
    {
     "data": {
      "text/plain": [
       "array([[1, 0, 0, 0],\n",
       "       [1, 0, 0, 0],\n",
       "       [1, 0, 0, 0],\n",
       "       [1, 0, 0, 0]])"
      ]
     },
     "execution_count": 153,
     "metadata": {},
     "output_type": "execute_result"
    }
   ],
   "source": [
    "TQ = np.repeat([[1,0,0,0]], 4, axis = 0)\n",
    "TQ = np.array(TQ)\n",
    "TQ"
   ]
  },
  {
   "cell_type": "code",
   "execution_count": 154,
   "id": "361815f8-76fc-465a-aafd-9f141b9bfaba",
   "metadata": {},
   "outputs": [],
   "source": [
    "Vprime = V.copy()\n",
    "for i in range(V.shape[0]):\n",
    "    vi = V[i,:]\n",
    "    wi = W[i,:]\n",
    "    qi = np.diag(wi) @ TQ\n",
    "    \n",
    "    wqi  = np.sum(qi, axis=0)\n",
    "    wqi /= np.linalg.norm(ri)\n",
    "    \n",
    "    vi_q = quaternion.as_quat_array(np.concatenate(([0], vi)))\n",
    "    \n",
    "    qi_q = quaternion.as_quat_array(wqi)\n",
    "    \n",
    "    # print(ri)\n",
    "    \n",
    "    res = qi_q * vi_q * qi_q.inverse()\n",
    "    \n",
    "    Vprime[i] = [res.x, res.y, res.z]\n",
    "    \n",
    "    # print(ri.shape)\n",
    "    \n",
    "    "
   ]
  },
  {
   "cell_type": "code",
   "execution_count": 155,
   "id": "747ea418-2d80-422b-b43d-1124530fe34e",
   "metadata": {},
   "outputs": [
    {
     "data": {
      "application/vnd.jupyter.widget-view+json": {
       "model_id": "f24bddb4092d448aa7c5a9f86dca7a8e",
       "version_major": 2,
       "version_minor": 0
      },
      "text/plain": [
       "Renderer(camera=PerspectiveCamera(children=(DirectionalLight(color='white', intensity=0.6, position=(0.0001610…"
      ]
     },
     "metadata": {},
     "output_type": "display_data"
    },
    {
     "data": {
      "text/plain": [
       "1"
      ]
     },
     "execution_count": 155,
     "metadata": {},
     "output_type": "execute_result"
    }
   ],
   "source": [
    "p = mp.plot(Vprime, F)\n",
    "p.add_mesh(V+.5, F)"
   ]
  },
  {
   "cell_type": "code",
   "execution_count": 82,
   "id": "7625be0d-e0e4-4524-8e7f-f38aa92117dd",
   "metadata": {},
   "outputs": [],
   "source": [
    "x = np.array([[2,2], \n",
    "              [4,4]])"
   ]
  },
  {
   "cell_type": "code",
   "execution_count": 85,
   "id": "ada8c443-400b-494b-a885-989478832d7e",
   "metadata": {},
   "outputs": [
    {
     "data": {
      "text/plain": [
       "array([4, 8])"
      ]
     },
     "execution_count": 85,
     "metadata": {},
     "output_type": "execute_result"
    }
   ],
   "source": [
    "np.sum(x,axis=1)"
   ]
  },
  {
   "cell_type": "code",
   "execution_count": 117,
   "id": "10c6efa1-3aea-463e-b044-b9df6f2c1d6c",
   "metadata": {},
   "outputs": [],
   "source": [
    "y = np.array([0,1,1,2])"
   ]
  },
  {
   "cell_type": "code",
   "execution_count": 96,
   "id": "26b04f1e-0186-45b4-aed3-ed96a1504d90",
   "metadata": {},
   "outputs": [
    {
     "data": {
      "text/plain": [
       "array([0, 1, 2])"
      ]
     },
     "execution_count": 96,
     "metadata": {},
     "output_type": "execute_result"
    }
   ],
   "source": [
    "np.concatenate(([0], [1,2]))"
   ]
  },
  {
   "cell_type": "code",
   "execution_count": 114,
   "id": "6cc8d148-b6e0-4afe-a8c5-c63e4738e894",
   "metadata": {},
   "outputs": [],
   "source": [
    "qq  = quaternion.as_quat_array(Q[0,:])"
   ]
  },
  {
   "cell_type": "code",
   "execution_count": 123,
   "id": "388b1add-f4ac-489f-ba61-fd92a279446c",
   "metadata": {},
   "outputs": [],
   "source": [
    "res = qq *  quaternion.as_quat_array(y) * qq.inverse()"
   ]
  },
  {
   "cell_type": "code",
   "execution_count": 125,
   "id": "aefae420-cd47-4422-8674-a5a42382d87f",
   "metadata": {},
   "outputs": [
    {
     "data": {
      "text/plain": [
       "quaternion(1.11022302462516e-16, -2.2286297134392, 1.01033982841775, -0.111458653718282)"
      ]
     },
     "execution_count": 125,
     "metadata": {},
     "output_type": "execute_result"
    }
   ],
   "source": [
    "res"
   ]
  },
  {
   "cell_type": "code",
   "execution_count": 126,
   "id": "73b43ecb-5e11-497d-94d3-ac0b73855dbc",
   "metadata": {},
   "outputs": [],
   "source": [
    "l = np.array((res.x, res.y, res.z))"
   ]
  },
  {
   "cell_type": "code",
   "execution_count": 127,
   "id": "3680dbcc-f8be-4951-bc95-948cfb434033",
   "metadata": {},
   "outputs": [
    {
     "data": {
      "text/plain": [
       "array([-2.22862971,  1.01033983, -0.11145865])"
      ]
     },
     "execution_count": 127,
     "metadata": {},
     "output_type": "execute_result"
    }
   ],
   "source": [
    "l"
   ]
  },
  {
   "cell_type": "code",
   "execution_count": null,
   "id": "440d5965-d288-436a-a219-fef15db08a11",
   "metadata": {},
   "outputs": [],
   "source": []
  }
 ],
 "metadata": {
  "kernelspec": {
   "display_name": "myEnv",
   "language": "python",
   "name": "myenv"
  },
  "language_info": {
   "codemirror_mode": {
    "name": "ipython",
    "version": 3
   },
   "file_extension": ".py",
   "mimetype": "text/x-python",
   "name": "python",
   "nbconvert_exporter": "python",
   "pygments_lexer": "ipython3",
   "version": "3.9.5"
  }
 },
 "nbformat": 4,
 "nbformat_minor": 5
}
